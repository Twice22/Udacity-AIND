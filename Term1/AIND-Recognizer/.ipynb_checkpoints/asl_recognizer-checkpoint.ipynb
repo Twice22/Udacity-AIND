{
 "cells": [
  {
   "cell_type": "markdown",
   "metadata": {
    "collapsed": true
   },
   "source": [
    "# Artificial Intelligence Engineer Nanodegree - Probabilistic Models\n",
    "## Project: Sign Language Recognition System\n",
    "- [Introduction](#intro)\n",
    "- [Part 1 Feature Selection](#part1_tutorial)\n",
    "    - [Tutorial](#part1_tutorial)\n",
    "    - [Features Submission](#part1_submission)\n",
    "    - [Features Unittest](#part1_test)\n",
    "- [Part 2 Train the models](#part2_tutorial)\n",
    "    - [Tutorial](#part2_tutorial)\n",
    "    - [Model Selection Score Submission](#part2_submission)\n",
    "    - [Model Score Unittest](#part2_test)\n",
    "- [Part 3 Build a Recognizer](#part3_tutorial)\n",
    "    - [Tutorial](#part3_tutorial)\n",
    "    - [Recognizer Submission](#part3_submission)\n",
    "    - [Recognizer Unittest](#part3_test)\n",
    "- [Part 4 (OPTIONAL) Improve the WER with Language Models](#part4_info)"
   ]
  },
  {
   "cell_type": "markdown",
   "metadata": {},
   "source": [
    "<a id='intro'></a>\n",
    "## Introduction\n",
    "The overall goal of this project is to build a word recognizer for American Sign Language video sequences, demonstrating the power of probabalistic models.  In particular, this project employs  [hidden Markov models (HMM's)](https://en.wikipedia.org/wiki/Hidden_Markov_model) to analyze a series of measurements taken from videos of American Sign Language (ASL) collected for research (see the [RWTH-BOSTON-104 Database](http://www-i6.informatik.rwth-aachen.de/~dreuw/database-rwth-boston-104.php)).  In this video, the right-hand x and y locations are plotted as the speaker signs the sentence.\n",
    "[![ASLR demo](http://www-i6.informatik.rwth-aachen.de/~dreuw/images/demosample.png)](https://drive.google.com/open?id=0B_5qGuFe-wbhUXRuVnNZVnMtam8)\n",
    "\n",
    "The raw data, train, and test sets are pre-defined.  You will derive a variety of feature sets (explored in Part 1), as well as implement three different model selection criterion to determine the optimal number of hidden states for each word model (explored in Part 2). Finally, in Part 3 you will implement the recognizer and compare the effects the different combinations of feature sets and model selection criteria.  \n",
    "\n",
    "At the end of each Part, complete the submission cells with implementations, answer all questions, and pass the unit tests.  Then submit the completed notebook for review!"
   ]
  },
  {
   "cell_type": "markdown",
   "metadata": {},
   "source": [
    "<a id='part1_tutorial'></a>\n",
    "## PART 1: Data\n",
    "\n",
    "### Features Tutorial\n",
    "##### Load the initial database\n",
    "A data handler designed for this database is provided in the student codebase as the `AslDb` class in the `asl_data` module.  This handler creates the initial [pandas](http://pandas.pydata.org/pandas-docs/stable/) dataframe from the corpus of data included in the `data` directory as well as dictionaries suitable for extracting data in a format friendly to the [hmmlearn](https://hmmlearn.readthedocs.io/en/latest/) library.  We'll use those to create models in Part 2.\n",
    "\n",
    "To start, let's set up the initial database and select an example set of features for the training set.  At the end of Part 1, you will create additional feature sets for experimentation. "
   ]
  },
  {
   "cell_type": "code",
   "execution_count": 1,
   "metadata": {
    "collapsed": false
   },
   "outputs": [
    {
     "data": {
      "text/html": [
       "<div>\n",
       "<table border=\"1\" class=\"dataframe\">\n",
       "  <thead>\n",
       "    <tr style=\"text-align: right;\">\n",
       "      <th></th>\n",
       "      <th></th>\n",
       "      <th>left-x</th>\n",
       "      <th>left-y</th>\n",
       "      <th>right-x</th>\n",
       "      <th>right-y</th>\n",
       "      <th>nose-x</th>\n",
       "      <th>nose-y</th>\n",
       "      <th>speaker</th>\n",
       "    </tr>\n",
       "    <tr>\n",
       "      <th>video</th>\n",
       "      <th>frame</th>\n",
       "      <th></th>\n",
       "      <th></th>\n",
       "      <th></th>\n",
       "      <th></th>\n",
       "      <th></th>\n",
       "      <th></th>\n",
       "      <th></th>\n",
       "    </tr>\n",
       "  </thead>\n",
       "  <tbody>\n",
       "    <tr>\n",
       "      <th rowspan=\"5\" valign=\"top\">98</th>\n",
       "      <th>0</th>\n",
       "      <td>149</td>\n",
       "      <td>181</td>\n",
       "      <td>170</td>\n",
       "      <td>175</td>\n",
       "      <td>161</td>\n",
       "      <td>62</td>\n",
       "      <td>woman-1</td>\n",
       "    </tr>\n",
       "    <tr>\n",
       "      <th>1</th>\n",
       "      <td>149</td>\n",
       "      <td>181</td>\n",
       "      <td>170</td>\n",
       "      <td>175</td>\n",
       "      <td>161</td>\n",
       "      <td>62</td>\n",
       "      <td>woman-1</td>\n",
       "    </tr>\n",
       "    <tr>\n",
       "      <th>2</th>\n",
       "      <td>149</td>\n",
       "      <td>181</td>\n",
       "      <td>170</td>\n",
       "      <td>175</td>\n",
       "      <td>161</td>\n",
       "      <td>62</td>\n",
       "      <td>woman-1</td>\n",
       "    </tr>\n",
       "    <tr>\n",
       "      <th>3</th>\n",
       "      <td>149</td>\n",
       "      <td>181</td>\n",
       "      <td>170</td>\n",
       "      <td>175</td>\n",
       "      <td>161</td>\n",
       "      <td>62</td>\n",
       "      <td>woman-1</td>\n",
       "    </tr>\n",
       "    <tr>\n",
       "      <th>4</th>\n",
       "      <td>149</td>\n",
       "      <td>181</td>\n",
       "      <td>170</td>\n",
       "      <td>175</td>\n",
       "      <td>161</td>\n",
       "      <td>62</td>\n",
       "      <td>woman-1</td>\n",
       "    </tr>\n",
       "  </tbody>\n",
       "</table>\n",
       "</div>"
      ],
      "text/plain": [
       "             left-x  left-y  right-x  right-y  nose-x  nose-y  speaker\n",
       "video frame                                                           \n",
       "98    0         149     181      170      175     161      62  woman-1\n",
       "      1         149     181      170      175     161      62  woman-1\n",
       "      2         149     181      170      175     161      62  woman-1\n",
       "      3         149     181      170      175     161      62  woman-1\n",
       "      4         149     181      170      175     161      62  woman-1"
      ]
     },
     "execution_count": 1,
     "metadata": {},
     "output_type": "execute_result"
    }
   ],
   "source": [
    "import numpy as np\n",
    "import pandas as pd\n",
    "from asl_data import AslDb\n",
    "\n",
    "\n",
    "asl = AslDb() # initializes the database\n",
    "asl.df.head(5) # displays the first five rows of the asl database, indexed by video and frame"
   ]
  },
  {
   "cell_type": "code",
   "execution_count": 2,
   "metadata": {
    "collapsed": false
   },
   "outputs": [
    {
     "data": {
      "text/plain": [
       "left-x         149\n",
       "left-y         181\n",
       "right-x        170\n",
       "right-y        175\n",
       "nose-x         161\n",
       "nose-y          62\n",
       "speaker    woman-1\n",
       "Name: (98, 1), dtype: object"
      ]
     },
     "execution_count": 2,
     "metadata": {},
     "output_type": "execute_result"
    }
   ],
   "source": [
    "asl.df.ix[98,1]  # look at the data available for an individual frame"
   ]
  },
  {
   "cell_type": "markdown",
   "metadata": {},
   "source": [
    "The frame represented by video 98, frame 1 is shown here:\n",
    "![Video 98](http://www-i6.informatik.rwth-aachen.de/~dreuw/database/rwth-boston-104/overview/images/orig/098-start.jpg)"
   ]
  },
  {
   "cell_type": "markdown",
   "metadata": {},
   "source": [
    "##### Feature selection for training the model\n",
    "The objective of feature selection when training a model is to choose the most relevant variables while keeping the model as simple as possible, thus reducing training time.  We can use the raw features already provided or derive our own and add columns to the pandas dataframe `asl.df` for selection. As an example, in the next cell a feature named `'grnd-ry'` is added. This feature is the difference between the right-hand y value and the nose y value, which serves as the \"ground\" right y value. "
   ]
  },
  {
   "cell_type": "code",
   "execution_count": 3,
   "metadata": {
    "collapsed": false
   },
   "outputs": [
    {
     "data": {
      "text/html": [
       "<div>\n",
       "<table border=\"1\" class=\"dataframe\">\n",
       "  <thead>\n",
       "    <tr style=\"text-align: right;\">\n",
       "      <th></th>\n",
       "      <th></th>\n",
       "      <th>left-x</th>\n",
       "      <th>left-y</th>\n",
       "      <th>right-x</th>\n",
       "      <th>right-y</th>\n",
       "      <th>nose-x</th>\n",
       "      <th>nose-y</th>\n",
       "      <th>speaker</th>\n",
       "      <th>grnd-ry</th>\n",
       "    </tr>\n",
       "    <tr>\n",
       "      <th>video</th>\n",
       "      <th>frame</th>\n",
       "      <th></th>\n",
       "      <th></th>\n",
       "      <th></th>\n",
       "      <th></th>\n",
       "      <th></th>\n",
       "      <th></th>\n",
       "      <th></th>\n",
       "      <th></th>\n",
       "    </tr>\n",
       "  </thead>\n",
       "  <tbody>\n",
       "    <tr>\n",
       "      <th rowspan=\"5\" valign=\"top\">98</th>\n",
       "      <th>0</th>\n",
       "      <td>149</td>\n",
       "      <td>181</td>\n",
       "      <td>170</td>\n",
       "      <td>175</td>\n",
       "      <td>161</td>\n",
       "      <td>62</td>\n",
       "      <td>woman-1</td>\n",
       "      <td>113</td>\n",
       "    </tr>\n",
       "    <tr>\n",
       "      <th>1</th>\n",
       "      <td>149</td>\n",
       "      <td>181</td>\n",
       "      <td>170</td>\n",
       "      <td>175</td>\n",
       "      <td>161</td>\n",
       "      <td>62</td>\n",
       "      <td>woman-1</td>\n",
       "      <td>113</td>\n",
       "    </tr>\n",
       "    <tr>\n",
       "      <th>2</th>\n",
       "      <td>149</td>\n",
       "      <td>181</td>\n",
       "      <td>170</td>\n",
       "      <td>175</td>\n",
       "      <td>161</td>\n",
       "      <td>62</td>\n",
       "      <td>woman-1</td>\n",
       "      <td>113</td>\n",
       "    </tr>\n",
       "    <tr>\n",
       "      <th>3</th>\n",
       "      <td>149</td>\n",
       "      <td>181</td>\n",
       "      <td>170</td>\n",
       "      <td>175</td>\n",
       "      <td>161</td>\n",
       "      <td>62</td>\n",
       "      <td>woman-1</td>\n",
       "      <td>113</td>\n",
       "    </tr>\n",
       "    <tr>\n",
       "      <th>4</th>\n",
       "      <td>149</td>\n",
       "      <td>181</td>\n",
       "      <td>170</td>\n",
       "      <td>175</td>\n",
       "      <td>161</td>\n",
       "      <td>62</td>\n",
       "      <td>woman-1</td>\n",
       "      <td>113</td>\n",
       "    </tr>\n",
       "  </tbody>\n",
       "</table>\n",
       "</div>"
      ],
      "text/plain": [
       "             left-x  left-y  right-x  right-y  nose-x  nose-y  speaker  \\\n",
       "video frame                                                              \n",
       "98    0         149     181      170      175     161      62  woman-1   \n",
       "      1         149     181      170      175     161      62  woman-1   \n",
       "      2         149     181      170      175     161      62  woman-1   \n",
       "      3         149     181      170      175     161      62  woman-1   \n",
       "      4         149     181      170      175     161      62  woman-1   \n",
       "\n",
       "             grnd-ry  \n",
       "video frame           \n",
       "98    0          113  \n",
       "      1          113  \n",
       "      2          113  \n",
       "      3          113  \n",
       "      4          113  "
      ]
     },
     "execution_count": 3,
     "metadata": {},
     "output_type": "execute_result"
    }
   ],
   "source": [
    "asl.df['grnd-ry'] = asl.df['right-y'] - asl.df['nose-y']\n",
    "asl.df.head()  # the new feature 'grnd-ry' is now in the frames dictionary"
   ]
  },
  {
   "cell_type": "markdown",
   "metadata": {},
   "source": [
    "##### Try it!"
   ]
  },
  {
   "cell_type": "code",
   "execution_count": 4,
   "metadata": {
    "collapsed": false
   },
   "outputs": [
    {
     "name": "stdout",
     "output_type": "stream",
     "text": [
      "asl.df sample\n"
     ]
    },
    {
     "data": {
      "text/html": [
       "<div>\n",
       "<table border=\"1\" class=\"dataframe\">\n",
       "  <thead>\n",
       "    <tr style=\"text-align: right;\">\n",
       "      <th></th>\n",
       "      <th></th>\n",
       "      <th>left-x</th>\n",
       "      <th>left-y</th>\n",
       "      <th>right-x</th>\n",
       "      <th>right-y</th>\n",
       "      <th>nose-x</th>\n",
       "      <th>nose-y</th>\n",
       "      <th>speaker</th>\n",
       "      <th>grnd-ry</th>\n",
       "      <th>grnd-rx</th>\n",
       "      <th>grnd-ly</th>\n",
       "      <th>grnd-lx</th>\n",
       "    </tr>\n",
       "    <tr>\n",
       "      <th>video</th>\n",
       "      <th>frame</th>\n",
       "      <th></th>\n",
       "      <th></th>\n",
       "      <th></th>\n",
       "      <th></th>\n",
       "      <th></th>\n",
       "      <th></th>\n",
       "      <th></th>\n",
       "      <th></th>\n",
       "      <th></th>\n",
       "      <th></th>\n",
       "      <th></th>\n",
       "    </tr>\n",
       "  </thead>\n",
       "  <tbody>\n",
       "    <tr>\n",
       "      <th rowspan=\"5\" valign=\"top\">98</th>\n",
       "      <th>0</th>\n",
       "      <td>149</td>\n",
       "      <td>181</td>\n",
       "      <td>170</td>\n",
       "      <td>175</td>\n",
       "      <td>161</td>\n",
       "      <td>62</td>\n",
       "      <td>woman-1</td>\n",
       "      <td>113</td>\n",
       "      <td>9</td>\n",
       "      <td>119</td>\n",
       "      <td>-12</td>\n",
       "    </tr>\n",
       "    <tr>\n",
       "      <th>1</th>\n",
       "      <td>149</td>\n",
       "      <td>181</td>\n",
       "      <td>170</td>\n",
       "      <td>175</td>\n",
       "      <td>161</td>\n",
       "      <td>62</td>\n",
       "      <td>woman-1</td>\n",
       "      <td>113</td>\n",
       "      <td>9</td>\n",
       "      <td>119</td>\n",
       "      <td>-12</td>\n",
       "    </tr>\n",
       "    <tr>\n",
       "      <th>2</th>\n",
       "      <td>149</td>\n",
       "      <td>181</td>\n",
       "      <td>170</td>\n",
       "      <td>175</td>\n",
       "      <td>161</td>\n",
       "      <td>62</td>\n",
       "      <td>woman-1</td>\n",
       "      <td>113</td>\n",
       "      <td>9</td>\n",
       "      <td>119</td>\n",
       "      <td>-12</td>\n",
       "    </tr>\n",
       "    <tr>\n",
       "      <th>3</th>\n",
       "      <td>149</td>\n",
       "      <td>181</td>\n",
       "      <td>170</td>\n",
       "      <td>175</td>\n",
       "      <td>161</td>\n",
       "      <td>62</td>\n",
       "      <td>woman-1</td>\n",
       "      <td>113</td>\n",
       "      <td>9</td>\n",
       "      <td>119</td>\n",
       "      <td>-12</td>\n",
       "    </tr>\n",
       "    <tr>\n",
       "      <th>4</th>\n",
       "      <td>149</td>\n",
       "      <td>181</td>\n",
       "      <td>170</td>\n",
       "      <td>175</td>\n",
       "      <td>161</td>\n",
       "      <td>62</td>\n",
       "      <td>woman-1</td>\n",
       "      <td>113</td>\n",
       "      <td>9</td>\n",
       "      <td>119</td>\n",
       "      <td>-12</td>\n",
       "    </tr>\n",
       "  </tbody>\n",
       "</table>\n",
       "</div>"
      ],
      "text/plain": [
       "             left-x  left-y  right-x  right-y  nose-x  nose-y  speaker  \\\n",
       "video frame                                                              \n",
       "98    0         149     181      170      175     161      62  woman-1   \n",
       "      1         149     181      170      175     161      62  woman-1   \n",
       "      2         149     181      170      175     161      62  woman-1   \n",
       "      3         149     181      170      175     161      62  woman-1   \n",
       "      4         149     181      170      175     161      62  woman-1   \n",
       "\n",
       "             grnd-ry  grnd-rx  grnd-ly  grnd-lx  \n",
       "video frame                                      \n",
       "98    0          113        9      119      -12  \n",
       "      1          113        9      119      -12  \n",
       "      2          113        9      119      -12  \n",
       "      3          113        9      119      -12  \n",
       "      4          113        9      119      -12  "
      ]
     },
     "metadata": {},
     "output_type": "display_data"
    },
    {
     "data": {
      "text/html": [
       "<font color=green>Correct!</font><br/>"
      ],
      "text/plain": [
       "<IPython.core.display.HTML object>"
      ]
     },
     "execution_count": 4,
     "metadata": {},
     "output_type": "execute_result"
    }
   ],
   "source": [
    "from asl_utils import test_features_tryit\n",
    "# TODO add df columns for 'grnd-rx', 'grnd-ly', 'grnd-lx' representing differences between hand and nose locations\n",
    "asl.df['grnd-rx'] = asl.df['right-x'] - asl.df['nose-x']\n",
    "asl.df['grnd-ly'] = asl.df['left-y'] - asl.df['nose-y']\n",
    "asl.df['grnd-lx'] = asl.df['left-x'] - asl.df['nose-x']\n",
    "\n",
    "# test the code\n",
    "test_features_tryit(asl)"
   ]
  },
  {
   "cell_type": "code",
   "execution_count": 5,
   "metadata": {
    "collapsed": false
   },
   "outputs": [
    {
     "data": {
      "text/plain": [
       "[9, 113, -12, 119]"
      ]
     },
     "execution_count": 5,
     "metadata": {},
     "output_type": "execute_result"
    }
   ],
   "source": [
    "# collect the features into a list\n",
    "features_ground = ['grnd-rx','grnd-ry','grnd-lx','grnd-ly']\n",
    " #show a single set of features for a given (video, frame) tuple\n",
    "[asl.df.ix[98,1][v] for v in features_ground]"
   ]
  },
  {
   "cell_type": "markdown",
   "metadata": {},
   "source": [
    "##### Build the training set\n",
    "Now that we have a feature list defined, we can pass that list to the `build_training` method to collect the features for all the words in the training set.  Each word in the training set has multiple examples from various videos.  Below we can see the unique words that have been loaded into the training set:"
   ]
  },
  {
   "cell_type": "code",
   "execution_count": 6,
   "metadata": {
    "collapsed": false
   },
   "outputs": [
    {
     "name": "stdout",
     "output_type": "stream",
     "text": [
      "Training words: ['JOHN', 'WRITE', 'HOMEWORK', 'IX-1P', 'SEE', 'YESTERDAY', 'IX', 'LOVE', 'MARY', 'CAN', 'GO', 'GO1', 'FUTURE', 'GO2', 'PARTY', 'FUTURE1', 'HIT', 'BLAME', 'FRED', 'FISH', 'WONT', 'EAT', 'BUT', 'CHICKEN', 'VEGETABLE', 'CHINA', 'PEOPLE', 'PREFER', 'BROCCOLI', 'LIKE', 'LEAVE', 'SAY', 'BUY', 'HOUSE', 'KNOW', 'CORN', 'CORN1', 'THINK', 'NOT', 'PAST', 'LIVE', 'CHICAGO', 'CAR', 'SHOULD', 'DECIDE', 'VISIT', 'MOVIE', 'WANT', 'SELL', 'TOMORROW', 'NEXT-WEEK', 'NEW-YORK', 'LAST-WEEK', 'WILL', 'FINISH', 'ANN', 'READ', 'BOOK', 'CHOCOLATE', 'FIND', 'SOMETHING-ONE', 'POSS', 'BROTHER', 'ARRIVE', 'HERE', 'GIVE', 'MAN', 'NEW', 'COAT', 'WOMAN', 'GIVE1', 'HAVE', 'FRANK', 'BREAK-DOWN', 'SEARCH-FOR', 'WHO', 'WHAT', 'LEG', 'FRIEND', 'CANDY', 'BLUE', 'SUE', 'BUY1', 'STOLEN', 'OLD', 'STUDENT', 'VIDEOTAPE', 'BORROW', 'MOTHER', 'POTATO', 'TELL', 'BILL', 'THROW', 'APPLE', 'NAME', 'SHOOT', 'SAY-1P', 'SELF', 'GROUP', 'JANA', 'TOY1', 'MANY', 'TOY', 'ALL', 'BOY', 'TEACHER', 'GIRL', 'BOX', 'GIVE2', 'GIVE3', 'GET', 'PUTASIDE']\n"
     ]
    }
   ],
   "source": [
    "training = asl.build_training(features_ground)\n",
    "print(\"Training words: {}\".format(training.words))"
   ]
  },
  {
   "cell_type": "markdown",
   "metadata": {},
   "source": [
    "The training data in `training` is an object of class `WordsData` defined in the `asl_data` module.  in addition to the `words` list, data can be accessed with the `get_all_sequences`, `get_all_Xlengths`, `get_word_sequences`, and `get_word_Xlengths` methods. We need the `get_word_Xlengths` method to train multiple sequences with the `hmmlearn` library.  In the following example, notice that there are two lists; the first is a concatenation of all the sequences(the X portion) and the second is a list of the sequence lengths(the Lengths portion)."
   ]
  },
  {
   "cell_type": "code",
   "execution_count": 7,
   "metadata": {
    "collapsed": false
   },
   "outputs": [
    {
     "data": {
      "text/plain": [
       "(array([[-11,  57,   9,  58],\n",
       "        [-11,  57,   5,  59],\n",
       "        [-11,  57,   5,  59],\n",
       "        [-11,  57,   5,  59],\n",
       "        [-11,  57,   5,  59],\n",
       "        [-11,  57,  14,  59],\n",
       "        [-11,  53,  12,  53],\n",
       "        [ -7,  55,   6,  53],\n",
       "        [ -7,  55,   6,  53],\n",
       "        [ -7,  55,   6,  53],\n",
       "        [ -7,  55,  13,  58],\n",
       "        [-12,  59,  20,  62],\n",
       "        [-11,  39,   3,  39],\n",
       "        [ -4,  42,   3,  39],\n",
       "        [ -8,  40,   3,  39],\n",
       "        [-11,  41,   5,  38],\n",
       "        [-14,  42,   7,  39],\n",
       "        [-14,  42,  11,  40],\n",
       "        [-14,  42,  15,  42],\n",
       "        [ 16,  37,  33,  53],\n",
       "        [ 20,  41,  29,  48],\n",
       "        [ 20,  41,  27,  41],\n",
       "        [ 14,  42,  25,  42],\n",
       "        [  8,  46,  22,  45],\n",
       "        [  3,  45,  25,  46],\n",
       "        [  0,  46,  25,  46],\n",
       "        [-19,  84,  11, 106],\n",
       "        [-19,  88,  11, 106],\n",
       "        [-19,  88,  11, 104],\n",
       "        [-19,  88,  11, 104],\n",
       "        [-19,  88,  11, 104],\n",
       "        [-18,  84,  12, 100],\n",
       "        [-18,  84,  12, 100],\n",
       "        [-18,  94,  14, 101],\n",
       "        [-24, 102,  16, 109],\n",
       "        [-25, 112,  14, 117],\n",
       "        [-27, 119,  19, 125],\n",
       "        [  1,  51,  18,  62],\n",
       "        [  8,  54,  15,  54],\n",
       "        [  6,  53,  15,  54],\n",
       "        [  3,  49,  17,  49],\n",
       "        [  3,  49,  17,  49],\n",
       "        [ -4,  49,  22,  50],\n",
       "        [ -9,  55,  18,  56],\n",
       "        [ -5,  60,  23,  61],\n",
       "        [-22,  85,  25,  83],\n",
       "        [-19,  90,  30,  93],\n",
       "        [-17,  98,  19,  98],\n",
       "        [-17,  98,  24, 100],\n",
       "        [-17, 103,  21, 105],\n",
       "        [-18, 111,  20, 112],\n",
       "        [-15, 120,  20, 120],\n",
       "        [-17, 131,  17, 132],\n",
       "        [-13,  86,  26,  96],\n",
       "        [-12,  91,  30,  94],\n",
       "        [-12,  91,  25, 100],\n",
       "        [-11,  94,  26,  97],\n",
       "        [ -9, 100,  23, 101],\n",
       "        [-10, 107,  26, 112],\n",
       "        [ -9, 121,  24, 125],\n",
       "        [-11, 135,  26, 136],\n",
       "        [-13,  58,   9,  78],\n",
       "        [ -3,  71,   8,  81],\n",
       "        [ -3,  71,   8,  81],\n",
       "        [ -3,  71,   9,  74],\n",
       "        [ -7,  74,  12,  75],\n",
       "        [-12,  79,  17,  80],\n",
       "        [-18,  83,  18,  84],\n",
       "        [-10,  46,  24,  39],\n",
       "        [-10,  43,  18,  40],\n",
       "        [-10,  43,   9,  41],\n",
       "        [ -6,  44,   5,  41],\n",
       "        [ -6,  44,   5,  41],\n",
       "        [ -9,  42,  11,  42],\n",
       "        [ -9,  42,  16,  43],\n",
       "        [-13,  42,  13,  45],\n",
       "        [ -6,  63,  34,  83],\n",
       "        [ -2,  69,  27,  79],\n",
       "        [  2,  71,  21,  78],\n",
       "        [ -1,  70,  18,  77],\n",
       "        [ -1,  70,  18,  77],\n",
       "        [  1,  67,  20,  74],\n",
       "        [  4,  68,  19,  79],\n",
       "        [  4,  68,  19,  79],\n",
       "        [  4,  68,  19,  79],\n",
       "        [  1,  71,  19,  79],\n",
       "        [  1,  71,  19,  79],\n",
       "        [  0,  66,  18,  74],\n",
       "        [  0,  66,  16,  78],\n",
       "        [  0,  66,  16,  78],\n",
       "        [  0,  66,  16,  78],\n",
       "        [ -2,  72,  16,  78],\n",
       "        [  0,  75,  15,  85],\n",
       "        [ -1,  40,  19,  50],\n",
       "        [  2,  43,  13,  47],\n",
       "        [  1,  40,  12,  44],\n",
       "        [ -2,  45,  14,  48],\n",
       "        [  2,  45,  18,  48],\n",
       "        [  2,  49,  17,  54],\n",
       "        [  2,  49,  14,  49],\n",
       "        [  2,  49,  14,  49],\n",
       "        [  2,  49,  14,  49],\n",
       "        [  2,  49,  14,  49],\n",
       "        [  0,  47,  17,  51],\n",
       "        [  0,  47,  17,  51],\n",
       "        [  2,  52,  16,  54],\n",
       "        [  0,  51,  16,  54],\n",
       "        [  2,  57,  17,  57],\n",
       "        [  0,  55,  12,  56],\n",
       "        [  0,  55,  12,  56],\n",
       "        [  0,  55,  12,  56],\n",
       "        [  0,  55,  12,  56],\n",
       "        [ -7,  55,  16,  54],\n",
       "        [ -7,  55,  16,  54],\n",
       "        [ -2,  56,  11,  54],\n",
       "        [ -2,  56,  11,  54],\n",
       "        [ -2,  56,  11,  54],\n",
       "        [ -2,  56,  11,  54],\n",
       "        [ -4,  57,  18,  60],\n",
       "        [ -3,  62,  18,  60],\n",
       "        [ -3,  62,  23,  63],\n",
       "        [ -1,  53,  15,  58],\n",
       "        [  1,  54,   7,  56],\n",
       "        [ -3,  55,   9,  58],\n",
       "        [ -8,  57,  12,  57],\n",
       "        [ -8,  57,  12,  57],\n",
       "        [ -9,  53,  11,  53],\n",
       "        [ -9,  53,  11,  53],\n",
       "        [ -5,  55,   5,  56],\n",
       "        [ -5,  55,   5,  56],\n",
       "        [ -5,  55,   5,  56],\n",
       "        [-10,  54,  12,  53],\n",
       "        [-10,  54,  12,  53],\n",
       "        [ -8,  52,  19,  52],\n",
       "        [ -8,  52,  18,  59],\n",
       "        [ -1,  82,  25,  96],\n",
       "        [  5,  87,  17,  95],\n",
       "        [  3,  91,  16,  99],\n",
       "        [  3,  91,  16,  99],\n",
       "        [  3,  91,  16,  99],\n",
       "        [  3,  91,  16,  99],\n",
       "        [  3,  91,  16,  99],\n",
       "        [  3,  91,  16,  99],\n",
       "        [  3,  91,  16,  99],\n",
       "        [  2, 111,  19, 119],\n",
       "        [  2, 111,  19, 119],\n",
       "        [  1,  45,  26,  60],\n",
       "        [  3,  52,  22,  59],\n",
       "        [  3,  52,  20,  59],\n",
       "        [  3,  52,  20,  59],\n",
       "        [  4,  59,  20,  60],\n",
       "        [  4,  59,  20,  60],\n",
       "        [  6,  67,  20,  68],\n",
       "        [  6,  77,  20,  76],\n",
       "        [ -7,  36,  15,  42],\n",
       "        [ -8,  43,  12,  47],\n",
       "        [ -8,  43,  12,  47],\n",
       "        [ -9,  53,  13,  55],\n",
       "        [-11,  54,  11,  56],\n",
       "        [-11,  60,  10,  60],\n",
       "        [-11,  60,  10,  60],\n",
       "        [ -7,  65,  10,  65],\n",
       "        [ -6,  70,  13,  73],\n",
       "        [ -7,  76,  14,  80],\n",
       "        [-16,  77,  24, 105],\n",
       "        [-17,  75,  24,  96],\n",
       "        [-13,  82,  24,  85],\n",
       "        [-13,  80,  20,  84],\n",
       "        [ -9,  79,  16,  83],\n",
       "        [ -9,  79,  16,  83],\n",
       "        [ -9,  79,  21,  91],\n",
       "        [ -9,  79,  17, 105]], dtype=int64),\n",
       " [6, 6, 7, 7, 11, 8, 8, 8, 7, 8, 17, 15, 13, 14, 11, 8, 10, 8])"
      ]
     },
     "execution_count": 7,
     "metadata": {},
     "output_type": "execute_result"
    }
   ],
   "source": [
    "training.get_word_Xlengths('BOOK')"
   ]
  },
  {
   "cell_type": "markdown",
   "metadata": {},
   "source": [
    "###### More feature sets\n",
    "So far we have a simple feature set that is enough to get started modeling.  However, we might get better results if we manipulate the raw values a bit more, so we will go ahead and set up some other options now for experimentation later.  For example, we could normalize each speaker's range of motion with grouped statistics using [Pandas stats](http://pandas.pydata.org/pandas-docs/stable/api.html#api-dataframe-stats) functions and [pandas groupby](http://pandas.pydata.org/pandas-docs/stable/generated/pandas.DataFrame.groupby.html).  Below is an example for finding the means of all speaker subgroups."
   ]
  },
  {
   "cell_type": "code",
   "execution_count": 8,
   "metadata": {
    "collapsed": false,
    "scrolled": true
   },
   "outputs": [
    {
     "data": {
      "text/html": [
       "<div>\n",
       "<table border=\"1\" class=\"dataframe\">\n",
       "  <thead>\n",
       "    <tr style=\"text-align: right;\">\n",
       "      <th></th>\n",
       "      <th>left-x</th>\n",
       "      <th>left-y</th>\n",
       "      <th>right-x</th>\n",
       "      <th>right-y</th>\n",
       "      <th>nose-x</th>\n",
       "      <th>nose-y</th>\n",
       "      <th>grnd-ry</th>\n",
       "      <th>grnd-rx</th>\n",
       "      <th>grnd-ly</th>\n",
       "      <th>grnd-lx</th>\n",
       "    </tr>\n",
       "    <tr>\n",
       "      <th>speaker</th>\n",
       "      <th></th>\n",
       "      <th></th>\n",
       "      <th></th>\n",
       "      <th></th>\n",
       "      <th></th>\n",
       "      <th></th>\n",
       "      <th></th>\n",
       "      <th></th>\n",
       "      <th></th>\n",
       "      <th></th>\n",
       "    </tr>\n",
       "  </thead>\n",
       "  <tbody>\n",
       "    <tr>\n",
       "      <th>man-1</th>\n",
       "      <td>206.248203</td>\n",
       "      <td>218.679449</td>\n",
       "      <td>155.464350</td>\n",
       "      <td>150.371031</td>\n",
       "      <td>175.031756</td>\n",
       "      <td>61.642600</td>\n",
       "      <td>88.728430</td>\n",
       "      <td>-19.567406</td>\n",
       "      <td>157.036848</td>\n",
       "      <td>31.216447</td>\n",
       "    </tr>\n",
       "    <tr>\n",
       "      <th>woman-1</th>\n",
       "      <td>164.661438</td>\n",
       "      <td>161.271242</td>\n",
       "      <td>151.017865</td>\n",
       "      <td>117.332462</td>\n",
       "      <td>162.655120</td>\n",
       "      <td>57.245098</td>\n",
       "      <td>60.087364</td>\n",
       "      <td>-11.637255</td>\n",
       "      <td>104.026144</td>\n",
       "      <td>2.006318</td>\n",
       "    </tr>\n",
       "    <tr>\n",
       "      <th>woman-2</th>\n",
       "      <td>183.214509</td>\n",
       "      <td>176.527232</td>\n",
       "      <td>156.866295</td>\n",
       "      <td>119.835714</td>\n",
       "      <td>170.318973</td>\n",
       "      <td>58.022098</td>\n",
       "      <td>61.813616</td>\n",
       "      <td>-13.452679</td>\n",
       "      <td>118.505134</td>\n",
       "      <td>12.895536</td>\n",
       "    </tr>\n",
       "  </tbody>\n",
       "</table>\n",
       "</div>"
      ],
      "text/plain": [
       "             left-x      left-y     right-x     right-y      nose-x  \\\n",
       "speaker                                                               \n",
       "man-1    206.248203  218.679449  155.464350  150.371031  175.031756   \n",
       "woman-1  164.661438  161.271242  151.017865  117.332462  162.655120   \n",
       "woman-2  183.214509  176.527232  156.866295  119.835714  170.318973   \n",
       "\n",
       "            nose-y    grnd-ry    grnd-rx     grnd-ly    grnd-lx  \n",
       "speaker                                                          \n",
       "man-1    61.642600  88.728430 -19.567406  157.036848  31.216447  \n",
       "woman-1  57.245098  60.087364 -11.637255  104.026144   2.006318  \n",
       "woman-2  58.022098  61.813616 -13.452679  118.505134  12.895536  "
      ]
     },
     "execution_count": 8,
     "metadata": {},
     "output_type": "execute_result"
    }
   ],
   "source": [
    "df_means = asl.df.groupby('speaker').mean()\n",
    "df_means"
   ]
  },
  {
   "cell_type": "markdown",
   "metadata": {},
   "source": [
    "To select a mean that matches by speaker, use the pandas [map](http://pandas.pydata.org/pandas-docs/stable/generated/pandas.Series.map.html) method:"
   ]
  },
  {
   "cell_type": "code",
   "execution_count": 9,
   "metadata": {
    "collapsed": false
   },
   "outputs": [
    {
     "data": {
      "text/html": [
       "<div>\n",
       "<table border=\"1\" class=\"dataframe\">\n",
       "  <thead>\n",
       "    <tr style=\"text-align: right;\">\n",
       "      <th></th>\n",
       "      <th></th>\n",
       "      <th>left-x</th>\n",
       "      <th>left-y</th>\n",
       "      <th>right-x</th>\n",
       "      <th>right-y</th>\n",
       "      <th>nose-x</th>\n",
       "      <th>nose-y</th>\n",
       "      <th>speaker</th>\n",
       "      <th>grnd-ry</th>\n",
       "      <th>grnd-rx</th>\n",
       "      <th>grnd-ly</th>\n",
       "      <th>grnd-lx</th>\n",
       "      <th>left-x-mean</th>\n",
       "    </tr>\n",
       "    <tr>\n",
       "      <th>video</th>\n",
       "      <th>frame</th>\n",
       "      <th></th>\n",
       "      <th></th>\n",
       "      <th></th>\n",
       "      <th></th>\n",
       "      <th></th>\n",
       "      <th></th>\n",
       "      <th></th>\n",
       "      <th></th>\n",
       "      <th></th>\n",
       "      <th></th>\n",
       "      <th></th>\n",
       "      <th></th>\n",
       "    </tr>\n",
       "  </thead>\n",
       "  <tbody>\n",
       "    <tr>\n",
       "      <th rowspan=\"5\" valign=\"top\">98</th>\n",
       "      <th>0</th>\n",
       "      <td>149</td>\n",
       "      <td>181</td>\n",
       "      <td>170</td>\n",
       "      <td>175</td>\n",
       "      <td>161</td>\n",
       "      <td>62</td>\n",
       "      <td>woman-1</td>\n",
       "      <td>113</td>\n",
       "      <td>9</td>\n",
       "      <td>119</td>\n",
       "      <td>-12</td>\n",
       "      <td>164.661438</td>\n",
       "    </tr>\n",
       "    <tr>\n",
       "      <th>1</th>\n",
       "      <td>149</td>\n",
       "      <td>181</td>\n",
       "      <td>170</td>\n",
       "      <td>175</td>\n",
       "      <td>161</td>\n",
       "      <td>62</td>\n",
       "      <td>woman-1</td>\n",
       "      <td>113</td>\n",
       "      <td>9</td>\n",
       "      <td>119</td>\n",
       "      <td>-12</td>\n",
       "      <td>164.661438</td>\n",
       "    </tr>\n",
       "    <tr>\n",
       "      <th>2</th>\n",
       "      <td>149</td>\n",
       "      <td>181</td>\n",
       "      <td>170</td>\n",
       "      <td>175</td>\n",
       "      <td>161</td>\n",
       "      <td>62</td>\n",
       "      <td>woman-1</td>\n",
       "      <td>113</td>\n",
       "      <td>9</td>\n",
       "      <td>119</td>\n",
       "      <td>-12</td>\n",
       "      <td>164.661438</td>\n",
       "    </tr>\n",
       "    <tr>\n",
       "      <th>3</th>\n",
       "      <td>149</td>\n",
       "      <td>181</td>\n",
       "      <td>170</td>\n",
       "      <td>175</td>\n",
       "      <td>161</td>\n",
       "      <td>62</td>\n",
       "      <td>woman-1</td>\n",
       "      <td>113</td>\n",
       "      <td>9</td>\n",
       "      <td>119</td>\n",
       "      <td>-12</td>\n",
       "      <td>164.661438</td>\n",
       "    </tr>\n",
       "    <tr>\n",
       "      <th>4</th>\n",
       "      <td>149</td>\n",
       "      <td>181</td>\n",
       "      <td>170</td>\n",
       "      <td>175</td>\n",
       "      <td>161</td>\n",
       "      <td>62</td>\n",
       "      <td>woman-1</td>\n",
       "      <td>113</td>\n",
       "      <td>9</td>\n",
       "      <td>119</td>\n",
       "      <td>-12</td>\n",
       "      <td>164.661438</td>\n",
       "    </tr>\n",
       "  </tbody>\n",
       "</table>\n",
       "</div>"
      ],
      "text/plain": [
       "             left-x  left-y  right-x  right-y  nose-x  nose-y  speaker  \\\n",
       "video frame                                                              \n",
       "98    0         149     181      170      175     161      62  woman-1   \n",
       "      1         149     181      170      175     161      62  woman-1   \n",
       "      2         149     181      170      175     161      62  woman-1   \n",
       "      3         149     181      170      175     161      62  woman-1   \n",
       "      4         149     181      170      175     161      62  woman-1   \n",
       "\n",
       "             grnd-ry  grnd-rx  grnd-ly  grnd-lx  left-x-mean  \n",
       "video frame                                                   \n",
       "98    0          113        9      119      -12   164.661438  \n",
       "      1          113        9      119      -12   164.661438  \n",
       "      2          113        9      119      -12   164.661438  \n",
       "      3          113        9      119      -12   164.661438  \n",
       "      4          113        9      119      -12   164.661438  "
      ]
     },
     "execution_count": 9,
     "metadata": {},
     "output_type": "execute_result"
    }
   ],
   "source": [
    "asl.df['left-x-mean']= asl.df['speaker'].map(df_means['left-x'])\n",
    "asl.df.head()"
   ]
  },
  {
   "cell_type": "markdown",
   "metadata": {},
   "source": [
    "##### Try it!"
   ]
  },
  {
   "cell_type": "code",
   "execution_count": 10,
   "metadata": {
    "collapsed": false
   },
   "outputs": [
    {
     "name": "stdout",
     "output_type": "stream",
     "text": [
      "df_std\n"
     ]
    },
    {
     "data": {
      "text/html": [
       "<div>\n",
       "<table border=\"1\" class=\"dataframe\">\n",
       "  <thead>\n",
       "    <tr style=\"text-align: right;\">\n",
       "      <th></th>\n",
       "      <th>left-x</th>\n",
       "      <th>left-y</th>\n",
       "      <th>right-x</th>\n",
       "      <th>right-y</th>\n",
       "      <th>nose-x</th>\n",
       "      <th>nose-y</th>\n",
       "      <th>grnd-ry</th>\n",
       "      <th>grnd-rx</th>\n",
       "      <th>grnd-ly</th>\n",
       "      <th>grnd-lx</th>\n",
       "      <th>left-x-mean</th>\n",
       "    </tr>\n",
       "    <tr>\n",
       "      <th>speaker</th>\n",
       "      <th></th>\n",
       "      <th></th>\n",
       "      <th></th>\n",
       "      <th></th>\n",
       "      <th></th>\n",
       "      <th></th>\n",
       "      <th></th>\n",
       "      <th></th>\n",
       "      <th></th>\n",
       "      <th></th>\n",
       "      <th></th>\n",
       "    </tr>\n",
       "  </thead>\n",
       "  <tbody>\n",
       "    <tr>\n",
       "      <th>man-1</th>\n",
       "      <td>15.154425</td>\n",
       "      <td>36.328485</td>\n",
       "      <td>18.901917</td>\n",
       "      <td>54.902340</td>\n",
       "      <td>6.654573</td>\n",
       "      <td>5.520045</td>\n",
       "      <td>53.487999</td>\n",
       "      <td>20.269032</td>\n",
       "      <td>36.572749</td>\n",
       "      <td>15.080360</td>\n",
       "      <td>0.0</td>\n",
       "    </tr>\n",
       "    <tr>\n",
       "      <th>woman-1</th>\n",
       "      <td>17.573442</td>\n",
       "      <td>26.594521</td>\n",
       "      <td>16.459943</td>\n",
       "      <td>34.667787</td>\n",
       "      <td>3.549392</td>\n",
       "      <td>3.538330</td>\n",
       "      <td>33.972660</td>\n",
       "      <td>16.764706</td>\n",
       "      <td>27.117393</td>\n",
       "      <td>17.328941</td>\n",
       "      <td>0.0</td>\n",
       "    </tr>\n",
       "    <tr>\n",
       "      <th>woman-2</th>\n",
       "      <td>15.388711</td>\n",
       "      <td>28.825025</td>\n",
       "      <td>14.890288</td>\n",
       "      <td>39.649111</td>\n",
       "      <td>4.099760</td>\n",
       "      <td>3.416167</td>\n",
       "      <td>39.128572</td>\n",
       "      <td>16.191324</td>\n",
       "      <td>29.320655</td>\n",
       "      <td>15.050938</td>\n",
       "      <td>0.0</td>\n",
       "    </tr>\n",
       "  </tbody>\n",
       "</table>\n",
       "</div>"
      ],
      "text/plain": [
       "            left-x     left-y    right-x    right-y    nose-x    nose-y  \\\n",
       "speaker                                                                   \n",
       "man-1    15.154425  36.328485  18.901917  54.902340  6.654573  5.520045   \n",
       "woman-1  17.573442  26.594521  16.459943  34.667787  3.549392  3.538330   \n",
       "woman-2  15.388711  28.825025  14.890288  39.649111  4.099760  3.416167   \n",
       "\n",
       "           grnd-ry    grnd-rx    grnd-ly    grnd-lx  left-x-mean  \n",
       "speaker                                                           \n",
       "man-1    53.487999  20.269032  36.572749  15.080360          0.0  \n",
       "woman-1  33.972660  16.764706  27.117393  17.328941          0.0  \n",
       "woman-2  39.128572  16.191324  29.320655  15.050938          0.0  "
      ]
     },
     "metadata": {},
     "output_type": "display_data"
    },
    {
     "data": {
      "text/html": [
       "<font color=green>Correct!</font><br/>"
      ],
      "text/plain": [
       "<IPython.core.display.HTML object>"
      ]
     },
     "execution_count": 10,
     "metadata": {},
     "output_type": "execute_result"
    }
   ],
   "source": [
    "from asl_utils import test_std_tryit\n",
    "# TODO Create a dataframe named `df_std` with standard deviations grouped by speaker\n",
    "df_std = asl.df.groupby('speaker').std()\n",
    "df_std\n",
    "\n",
    "# test the code\n",
    "test_std_tryit(df_std)"
   ]
  },
  {
   "cell_type": "markdown",
   "metadata": {},
   "source": [
    "<a id='part1_submission'></a>\n",
    "### Features Implementation Submission\n",
    "Implement four feature sets and answer the question that follows.\n",
    "- normalized Cartesian coordinates\n",
    "    - use *mean* and *standard deviation* statistics and the [standard score](https://en.wikipedia.org/wiki/Standard_score) equation to account for speakers with different heights and arm length\n",
    "    \n",
    "- polar coordinates\n",
    "    - calculate polar coordinates with [Cartesian to polar equations](https://en.wikipedia.org/wiki/Polar_coordinate_system#Converting_between_polar_and_Cartesian_coordinates)\n",
    "    - use the [np.arctan2](https://docs.scipy.org/doc/numpy-1.10.0/reference/generated/numpy.arctan2.html) function and *swap the x and y axes* to move the $0$ to $2\\pi$ discontinuity to 12 o'clock instead of 3 o'clock;  in other words, the normal break in radians value from $0$ to $2\\pi$ occurs directly to the left of the speaker's nose, which may be in the signing area and interfere with results.  By swapping the x and y axes, that discontinuity move to directly above the speaker's head, an area not generally used in signing.\n",
    "\n",
    "- delta difference\n",
    "    - as described in Thad's lecture, use the difference in values between one frame and the next frames as features\n",
    "    - pandas [diff method](http://pandas.pydata.org/pandas-docs/stable/generated/pandas.DataFrame.diff.html) and [fillna method](http://pandas.pydata.org/pandas-docs/stable/generated/pandas.DataFrame.fillna.html) will be helpful for this one\n",
    "\n",
    "- custom features\n",
    "    - These are your own design; combine techniques used above or come up with something else entirely. We look forward to seeing what you come up with! \n",
    "    Some ideas to get you started:\n",
    "        - normalize using a [feature scaling equation](https://en.wikipedia.org/wiki/Feature_scaling)\n",
    "        - normalize the polar coordinates\n",
    "        - adding additional deltas\n"
   ]
  },
  {
   "cell_type": "code",
   "execution_count": 11,
   "metadata": {
    "collapsed": false
   },
   "outputs": [],
   "source": [
    "# TODO add features for normalized by speaker values of left, right, x, y\n",
    "# Name these 'norm-rx', 'norm-ry', 'norm-lx', and 'norm-ly'\n",
    "# using Z-score scaling (X-Xmean)/Xstd\n",
    "\n",
    "features_norm = ['norm-rx', 'norm-ry', 'norm-lx','norm-ly']\n",
    "\n",
    "norm = lambda w: (asl.df[w] - asl.df['speaker'].map(df_means[w]))/(asl.df['speaker'].map(df_std[w]))\n",
    "\n",
    "asl.df['norm-rx'] = norm('right-x')\n",
    "asl.df['norm-ry'] = norm('right-y')\n",
    "asl.df['norm-lx'] = norm('left-x')\n",
    "asl.df['norm-ly'] = norm('left-y')"
   ]
  },
  {
   "cell_type": "code",
   "execution_count": 12,
   "metadata": {
    "collapsed": false
   },
   "outputs": [],
   "source": [
    "# TODO add features for polar coordinate values where the nose is the origin\n",
    "# Name these 'polar-rr', 'polar-rtheta', 'polar-lr', and 'polar-ltheta'\n",
    "# Note that 'polar-rr' and 'polar-rtheta' refer to the radius and angle\n",
    "\n",
    "features_polar = ['polar-rr', 'polar-rtheta', 'polar-lr', 'polar-ltheta']\n",
    "\n",
    "radius = lambda x, y: ((asl.df[x]-asl.df['nose-x'])**2 + (asl.df[y]-asl.df['nose-y'])**2).apply(np.sqrt)\n",
    "theta = lambda x, y: np.arctan2( (asl.df[x]-asl.df['nose-x']), (asl.df[y]-asl.df['nose-y']) )\n",
    "\n",
    "asl.df['polar-rr'] = radius('right-x', 'right-y')\n",
    "asl.df['polar-lr'] = radius('left-x', 'left-y')\n",
    "asl.df['polar-rtheta'] = theta('right-x', 'right-y')\n",
    "asl.df['polar-ltheta'] = theta('left-x', 'left-y')"
   ]
  },
  {
   "cell_type": "code",
   "execution_count": 13,
   "metadata": {
    "collapsed": false
   },
   "outputs": [],
   "source": [
    "# TODO add features for left, right, x, y differences by one time step, i.e. the \"delta\" values discussed in the lecture\n",
    "# Name these 'delta-rx', 'delta-ry', 'delta-lx', and 'delta-ly'\n",
    "\n",
    "features_delta = ['delta-rx', 'delta-ry', 'delta-lx', 'delta-ly']\n",
    "\n",
    "scale = lambda w: (asl.df[w] - asl.df['speaker'].map(df_means[w]))/(asl.df['speaker'].map(df_std[w]))\n",
    "\n",
    "delta = lambda s: (asl.df.groupby('speaker', sort=False)[s].diff()).fillna(0)\n",
    "asl.df['delta-rx'] = delta('right-x')\n",
    "asl.df['delta-ry'] = delta('right-y')\n",
    "asl.df['delta-lx'] = delta('left-x')\n",
    "asl.df['delta-ly'] = delta('left-y')"
   ]
  },
  {
   "cell_type": "code",
   "execution_count": 14,
   "metadata": {
    "collapsed": false
   },
   "outputs": [
    {
     "data": {
      "text/html": [
       "<div>\n",
       "<table border=\"1\" class=\"dataframe\">\n",
       "  <thead>\n",
       "    <tr style=\"text-align: right;\">\n",
       "      <th></th>\n",
       "      <th>center1-x</th>\n",
       "      <th>center1-y</th>\n",
       "      <th>center2-x</th>\n",
       "      <th>center2-y</th>\n",
       "    </tr>\n",
       "    <tr>\n",
       "      <th>speaker</th>\n",
       "      <th></th>\n",
       "      <th></th>\n",
       "      <th></th>\n",
       "      <th></th>\n",
       "    </tr>\n",
       "  </thead>\n",
       "  <tbody>\n",
       "    <tr>\n",
       "      <th>man-1</th>\n",
       "      <td>87.515878</td>\n",
       "      <td>251</td>\n",
       "      <td>262.547633</td>\n",
       "      <td>251</td>\n",
       "    </tr>\n",
       "    <tr>\n",
       "      <th>woman-1</th>\n",
       "      <td>81.327560</td>\n",
       "      <td>179</td>\n",
       "      <td>243.982680</td>\n",
       "      <td>191</td>\n",
       "    </tr>\n",
       "    <tr>\n",
       "      <th>woman-2</th>\n",
       "      <td>85.159487</td>\n",
       "      <td>214</td>\n",
       "      <td>255.478460</td>\n",
       "      <td>219</td>\n",
       "    </tr>\n",
       "  </tbody>\n",
       "</table>\n",
       "</div>"
      ],
      "text/plain": [
       "         center1-x  center1-y   center2-x  center2-y\n",
       "speaker                                             \n",
       "man-1    87.515878        251  262.547633        251\n",
       "woman-1  81.327560        179  243.982680        191\n",
       "woman-2  85.159487        214  255.478460        219"
      ]
     },
     "execution_count": 14,
     "metadata": {},
     "output_type": "execute_result"
    }
   ],
   "source": [
    "df_max = asl.df.groupby('speaker').max()\n",
    "df_min = asl.df.groupby('speaker').min()\n",
    "\n",
    "df_center = pd.DataFrame()\n",
    "df_center['center1-x'] = df_means['nose-x']/2 #df_min['left-x']\n",
    "df_center['center1-y'] = df_max['right-y']\n",
    "df_center['center2-x'] = 3*df_means['nose-x']/2 #df_max['right-x']\n",
    "df_center['center2-y'] = df_max['left-y']\n",
    "\n",
    "df_center"
   ]
  },
  {
   "cell_type": "code",
   "execution_count": 15,
   "metadata": {
    "collapsed": false
   },
   "outputs": [],
   "source": [
    "# TODO add features of your own design, which may be a combination of the above or something else\n",
    "# Name these whatever you would like\n",
    "\n",
    "# TODO define a list named 'features_custom' for building the training set\n",
    "\n",
    "# 1 - MinMaxScaler\n",
    "xmin = lambda u: asl.df['speaker'].map(asl.df.groupby('speaker', sort=False)[u].min())\n",
    "xmax = lambda v: asl.df['speaker'].map(asl.df.groupby('speaker', sort=False)[v].max())\n",
    "scale = lambda w: (asl.df[w] - xmin(w))/(xmax(w) - xmin(w))\n",
    "\n",
    "# 2 - nomalization\n",
    "n_mean = lambda u: asl.df['speaker'].map(asl.df.groupby('speaker', sort=False)[u].mean())\n",
    "n_std = lambda v: asl.df['speaker'].map(asl.df.groupby('speaker', sort=False)[v].std())\n",
    "norm = lambda w: (asl.df[w] - n_mean(w))/(n_std(w))\n",
    "\n",
    "# 3 - distance w.r.t 2 centers\n",
    "radius1 = lambda x, y: ((asl.df[x]-asl.df['speaker'].map(df_center['center1-x']))**2 + (asl.df[y]-asl.df['speaker'].map(df_center['center1-y']))**2).apply(np.sqrt)\n",
    "radius2 = lambda x, y: ((asl.df[x]-asl.df['speaker'].map(df_center['center2-x']))**2 + (asl.df[y]-asl.df['speaker'].map(df_center['center2-y']))**2).apply(np.sqrt)\n",
    "theta1 = lambda x, y: np.arctan2( (asl.df[x]-asl.df['speaker'].map(df_center['center1-y'])), (asl.df[y]-asl.df['speaker'].map(df_center['center1-x']) ))\n",
    "theta2 = lambda x, y: np.arctan2( (asl.df[x]-asl.df['speaker'].map(df_center['center2-y'])), (asl.df[y]-asl.df['speaker'].map(df_center['center2-x']) ))\n",
    "\n",
    "# My custom features\n",
    "features_custom = ['polar1-r', 'polar2-r', 'polar1-theta', 'polar2-theta']\n",
    "\n",
    "# 1\n",
    "#asl.df['sright-x'] = scale('polar-rr')\n",
    "#asl.df['sright-y'] = scale('polar-lr')\n",
    "#asl.df['sleft-x'] = scale('polar-rtheta')\n",
    "#asl.df['sleft-y'] = scale('polar-ltheta')\n",
    "\n",
    "# 1\n",
    "#asl.df['npolar-rr'] = norm('polar-rr')\n",
    "#asl.df['npolar-lr'] = norm('polar-lr')\n",
    "#asl.df['npolar-rtheta'] = norm('polar-rtheta')\n",
    "#asl.df['npolar-ltheta'] = norm('polar-ltheta')\n",
    "\n",
    "# 3\n",
    "asl.df['polar1-r'] = radius1('right-x', 'right-y')\n",
    "asl.df['polar2-r'] = radius2('left-x', 'left-y')\n",
    "asl.df['polar1-theta'] = theta1('right-y', 'right-x')\n",
    "asl.df['polar2-theta'] = theta2('left-y', 'left-x')\n",
    "\n",
    "# 4\n",
    "#asl.df['dist-x'] = asl.df['right-x']-asl.df['left-x']\n",
    "#asl.df['dist-y'] = asl.df['right-y']-asl.df['left-y']"
   ]
  },
  {
   "cell_type": "markdown",
   "metadata": {},
   "source": [
    "**Question 1:**  What custom features did you choose for the features_custom set and why?\n",
    "\n",
    "**Answer 1:**\n",
    "I will analyze the various attempts I tried. Each time I put a #{number} that corresponds to the corresponding comment in my python code above.\n",
    "\n",
    "**#1** - MinMaxScaler. I created a MinMaxScaler and used it to scale right-x, right-y (or event polar radius) and so on. Actually when I evaluate the model using those features, it performs decrease as regards to the features_polar. It is understandable as polar coordinate fit more the natural movement of the hands that much more likely describe curves in the 2-D spaces than straight-line. I got WER around 0.7 while with features_polar I get at best around 0.53\n",
    "\n",
    "**#2** - Normalization. I used normalization and applied it to polar coordinates. While with polar features I could achieve a a WER of 0.53, by normalising features polar I achieve a WER 0.58 to 0.62. I would have thought it would have peformed better using normalization. It isn't the case. I might be because we don't have enough training data\n",
    "\n",
    "**#3** - I think that, rather than using polar coordinate w.r.t the nose as center, we could use 2 coordinate center w.r.t a pt that would be roughly at the bottom 1/4 of the video and the other being at the bottom 3/4 of the video (hence rougly the 2 circles would be situated at the elbow). Intuitively, I think that using polar coordinate for the right hand w.r.t the center right elbow and polar coordinate with left hand w.r.t the center left elbow should improve the accuracy as we might think that the movements of the hand would rather describe curves/circles w.r.t to those 2 centers instead of just w.r.t the nose. Using thos features leads to a WER of 0.58 while polar features leads to 0.53 at best. I can be understandable as those \"elbow centers\" are roughly calculated and that, as I have 2 different referentials, I loose one information (the place of one hand relatively to the other one) which can be corrected if I add other features. But in this case I'm afraid adding too much features will lead to overfitting as we don't have enough training data.\n",
    "\n",
    "**#4** - I computed the distance between left hand and right hand. It could be a good indicator because some words need 2 hands and others need one. also some words should be mimed with two hand very close to each other while other words should be mimed with 2 hands separated from each other. I used them with polar features\n",
    "\n",
    "I also used a combination of other features among them and try also to add more than 4 features (but not to much to avoid overfitting). In the end I think the best remains the polar features or a combinaison of several other features. I stick to **#3** as I think those are quite intuitive features"
   ]
  },
  {
   "cell_type": "markdown",
   "metadata": {},
   "source": [
    "<a id='part1_test'></a>\n",
    "### Features Unit Testing\n",
    "Run the following unit tests as a sanity check on the defined \"ground\", \"norm\", \"polar\", and 'delta\"\n",
    "feature sets.  The test simply looks for some valid values but is not exhaustive.  However, the project should not be submitted if these tests don't pass."
   ]
  },
  {
   "cell_type": "code",
   "execution_count": 16,
   "metadata": {
    "collapsed": false
   },
   "outputs": [
    {
     "name": "stderr",
     "output_type": "stream",
     "text": [
      "....\n",
      "----------------------------------------------------------------------\n",
      "Ran 4 tests in 0.013s\n",
      "\n",
      "OK\n"
     ]
    },
    {
     "data": {
      "text/plain": [
       "<unittest.runner.TextTestResult run=4 errors=0 failures=0>"
      ]
     },
     "execution_count": 16,
     "metadata": {},
     "output_type": "execute_result"
    }
   ],
   "source": [
    "import unittest\n",
    "# import numpy as np\n",
    "\n",
    "class TestFeatures(unittest.TestCase):\n",
    "\n",
    "    def test_features_ground(self):\n",
    "        sample = (asl.df.ix[98, 1][features_ground]).tolist()\n",
    "        self.assertEqual(sample, [9, 113, -12, 119])\n",
    "\n",
    "    def test_features_norm(self):\n",
    "        sample = (asl.df.ix[98, 1][features_norm]).tolist()\n",
    "        np.testing.assert_almost_equal(sample, [ 1.153,  1.663, -0.891,  0.742], 3)\n",
    "\n",
    "    def test_features_polar(self):\n",
    "        sample = (asl.df.ix[98,1][features_polar]).tolist()\n",
    "        np.testing.assert_almost_equal(sample, [113.3578, 0.0794, 119.603, -0.1005], 3)\n",
    "\n",
    "    def test_features_delta(self):\n",
    "        sample = (asl.df.ix[98, 0][features_delta]).tolist()\n",
    "        self.assertEqual(sample, [0, 0, 0, 0])\n",
    "        sample = (asl.df.ix[98, 18][features_delta]).tolist()\n",
    "        self.assertTrue(sample in [[-16, -5, -2, 4], [-14, -9, 0, 0]], \"Sample value found was {}\".format(sample))\n",
    "                         \n",
    "suite = unittest.TestLoader().loadTestsFromModule(TestFeatures())\n",
    "unittest.TextTestRunner().run(suite)"
   ]
  },
  {
   "cell_type": "markdown",
   "metadata": {
    "collapsed": true
   },
   "source": [
    "<a id='part2_tutorial'></a>\n",
    "## PART 2: Model Selection\n",
    "### Model Selection Tutorial\n",
    "The objective of Model Selection is to tune the number of states for each word HMM prior to testing on unseen data.  In this section you will explore three methods: \n",
    "- Log likelihood using cross-validation folds (CV)\n",
    "- Bayesian Information Criterion (BIC)\n",
    "- Discriminative Information Criterion (DIC) "
   ]
  },
  {
   "cell_type": "markdown",
   "metadata": {},
   "source": [
    "##### Train a single word\n",
    "Now that we have built a training set with sequence data, we can \"train\" models for each word.  As a simple starting example, we train a single word using Gaussian hidden Markov models (HMM).   By using the `fit` method during training, the [Baum-Welch Expectation-Maximization](https://en.wikipedia.org/wiki/Baum%E2%80%93Welch_algorithm) (EM) algorithm is invoked iteratively to find the best estimate for the model *for the number of hidden states specified* from a group of sample seequences. For this example, we *assume* the correct number of hidden states is 3, but that is just a guess.  How do we know what the \"best\" number of states for training is?  We will need to find some model selection technique to choose the best parameter."
   ]
  },
  {
   "cell_type": "code",
   "execution_count": 17,
   "metadata": {
    "collapsed": false
   },
   "outputs": [
    {
     "name": "stdout",
     "output_type": "stream",
     "text": [
      "Number of states trained in model for BOOK is 3\n",
      "logL = -2331.113812743319\n"
     ]
    }
   ],
   "source": [
    "import warnings\n",
    "from hmmlearn.hmm import GaussianHMM\n",
    "\n",
    "def train_a_word(word, num_hidden_states, features):\n",
    "    \n",
    "    warnings.filterwarnings(\"ignore\", category=DeprecationWarning)\n",
    "    training = asl.build_training(features)  \n",
    "    X, lengths = training.get_word_Xlengths(word)\n",
    "    model = GaussianHMM(n_components=num_hidden_states, n_iter=1000).fit(X, lengths)\n",
    "    logL = model.score(X, lengths)\n",
    "    return model, logL\n",
    "\n",
    "demoword = 'BOOK'\n",
    "model, logL = train_a_word(demoword, 3, features_ground)\n",
    "print(\"Number of states trained in model for {} is {}\".format(demoword, model.n_components))\n",
    "print(\"logL = {}\".format(logL))"
   ]
  },
  {
   "cell_type": "markdown",
   "metadata": {},
   "source": [
    "The HMM model has been trained and information can be pulled from the model, including means and variances for each feature and hidden state.  The [log likelihood](http://math.stackexchange.com/questions/892832/why-we-consider-log-likelihood-instead-of-likelihood-in-gaussian-distribution) for any individual sample or group of samples can also be calculated with the `score` method."
   ]
  },
  {
   "cell_type": "code",
   "execution_count": 18,
   "metadata": {
    "collapsed": false
   },
   "outputs": [
    {
     "name": "stdout",
     "output_type": "stream",
     "text": [
      "Number of states trained in model for BOOK is 3\n",
      "hidden state #0\n",
      "mean =  [ -3.46504869  50.66686933  14.02391587  52.04731066]\n",
      "variance =  [ 49.12346305  43.04799144  39.35109609  47.24195772]\n",
      "\n",
      "hidden state #1\n",
      "mean =  [ -11.45300909   94.109178     19.03512475  102.2030162 ]\n",
      "variance =  [  77.403668    203.35441965   26.68898447  156.12444034]\n",
      "\n",
      "hidden state #2\n",
      "mean =  [ -1.12415027  69.44164191  17.02866283  77.7231196 ]\n",
      "variance =  [ 19.70434594  16.83041492  30.51552305  11.03678246]\n",
      "\n"
     ]
    }
   ],
   "source": [
    "def show_model_stats(word, model):\n",
    "    print(\"Number of states trained in model for {} is {}\".format(word, model.n_components))    \n",
    "    variance=np.array([np.diag(model.covars_[i]) for i in range(model.n_components)])    \n",
    "    for i in range(model.n_components):  # for each hidden state\n",
    "        print(\"hidden state #{}\".format(i))\n",
    "        print(\"mean = \", model.means_[i])\n",
    "        print(\"variance = \", variance[i])\n",
    "        #print(\"variance = \", np.diag(model.covars_[i]))\n",
    "        print()\n",
    "    \n",
    "show_model_stats(demoword, model)"
   ]
  },
  {
   "cell_type": "markdown",
   "metadata": {},
   "source": [
    "##### Try it!\n",
    "Experiment by changing the feature set, word, and/or num_hidden_states values in the next cell to see changes in values.  "
   ]
  },
  {
   "cell_type": "code",
   "execution_count": 19,
   "metadata": {
    "collapsed": false
   },
   "outputs": [
    {
     "name": "stdout",
     "output_type": "stream",
     "text": [
      "Number of states trained in model for JOHN is 3\n",
      "hidden state #0\n",
      "mean =  [ -21.021061     38.51024848    1.39270426  126.26889606]\n",
      "variance =  [  52.50015648   98.66709622  168.30770438  300.17991637]\n",
      "\n",
      "hidden state #1\n",
      "mean =  [ -24.92747926   61.93716342   33.40672725  178.81045936]\n",
      "variance =  [  80.27423577  400.10409204   82.68869582   16.54418295]\n",
      "\n",
      "hidden state #2\n",
      "mean =  [ -11.7408851    77.82681668    4.81285139  134.10189748]\n",
      "variance =  [  86.14500669  328.74048785  313.66048313  140.88634919]\n",
      "\n",
      "logL = -18266.910547407173\n"
     ]
    }
   ],
   "source": [
    "my_testword = 'JOHN'\n",
    "model, logL = train_a_word(my_testword, 3, features_ground) # Experiment here with different parameters\n",
    "show_model_stats(my_testword, model)\n",
    "print(\"logL = {}\".format(logL))"
   ]
  },
  {
   "cell_type": "markdown",
   "metadata": {},
   "source": [
    "##### Visualize the hidden states\n",
    "We can plot the means and variances for each state and feature.  Try varying the number of states trained for the HMM model and examine the variances.  Are there some models that are \"better\" than others?  How can you tell?  We would like to hear what you think in the classroom online."
   ]
  },
  {
   "cell_type": "code",
   "execution_count": 20,
   "metadata": {
    "collapsed": false
   },
   "outputs": [],
   "source": [
    "%matplotlib inline"
   ]
  },
  {
   "cell_type": "code",
   "execution_count": 21,
   "metadata": {
    "collapsed": false
   },
   "outputs": [
    {
     "data": {
      "image/png": "[encoded data removed]",
      "text/plain": [
       "<matplotlib.figure.Figure at 0x1c91978da90>"
      ]
     },
     "metadata": {},
     "output_type": "display_data"
    },
    {
     "data": {
      "image/png": "[encoded data removed]",
      "text/plain": [
       "<matplotlib.figure.Figure at 0x1c91c169f98>"
      ]
     },
     "metadata": {},
     "output_type": "display_data"
    },
    {
     "data": {
      "image/png": "[encoded data removed]",
      "text/plain": [
       "<matplotlib.figure.Figure at 0x1c91c2a2ef0>"
      ]
     },
     "metadata": {},
     "output_type": "display_data"
    },
    {
     "data": {
      "image/png": "[encoded data removed]",
      "text/plain": [
       "<matplotlib.figure.Figure at 0x1c91c3f15f8>"
      ]
     },
     "metadata": {},
     "output_type": "display_data"
    }
   ],
   "source": [
    "import math\n",
    "from matplotlib import (cm, pyplot as plt, mlab)\n",
    "\n",
    "def visualize(word, model):\n",
    "    \"\"\" visualize the input model for a particular word \"\"\"\n",
    "    variance=np.array([np.diag(model.covars_[i]) for i in range(model.n_components)])\n",
    "    figures = []\n",
    "    for parm_idx in range(len(model.means_[0])):\n",
    "        xmin = int(min(model.means_[:,parm_idx]) - max(variance[:,parm_idx]))\n",
    "        xmax = int(max(model.means_[:,parm_idx]) + max(variance[:,parm_idx]))\n",
    "        fig, axs = plt.subplots(model.n_components, sharex=True, sharey=False)\n",
    "        colours = cm.rainbow(np.linspace(0, 1, model.n_components))\n",
    "        for i, (ax, colour) in enumerate(zip(axs, colours)):\n",
    "            x = np.linspace(xmin, xmax, 100)\n",
    "            mu = model.means_[i,parm_idx]\n",
    "            sigma = math.sqrt(np.diag(model.covars_[i])[parm_idx])\n",
    "            ax.plot(x, mlab.normpdf(x, mu, sigma), c=colour)\n",
    "            ax.set_title(\"{} feature {} hidden state #{}\".format(word, parm_idx, i))\n",
    "\n",
    "            ax.grid(True)\n",
    "        figures.append(plt)\n",
    "    for p in figures:\n",
    "        p.show()\n",
    "        \n",
    "visualize(my_testword, model)"
   ]
  },
  {
   "cell_type": "markdown",
   "metadata": {},
   "source": [
    "#####  ModelSelector class\n",
    "Review the `SelectorModel` class from the codebase found in the `my_model_selectors.py` module.  It is designed to be a strategy pattern for choosing different model selectors.  For the project submission in this section, subclass `SelectorModel` to implement the following model selectors.  In other words, you will write your own classes/functions in the `my_model_selectors.py` module and run them from this notebook:\n",
    "\n",
    "- `SelectorCV `:  Log likelihood with CV\n",
    "- `SelectorBIC`: BIC \n",
    "- `SelectorDIC`: DIC\n",
    "\n",
    "You will train each word in the training set with a range of values for the number of hidden states, and then score these alternatives with the model selector, choosing the \"best\" according to each strategy. The simple case of training with a constant value for `n_components` can be called using the provided `SelectorConstant` subclass as follow:"
   ]
  },
  {
   "cell_type": "code",
   "execution_count": 22,
   "metadata": {
    "collapsed": false,
    "scrolled": true
   },
   "outputs": [
    {
     "name": "stdout",
     "output_type": "stream",
     "text": [
      "Number of states trained in model for VEGETABLE is 3\n"
     ]
    }
   ],
   "source": [
    "from my_model_selectors import SelectorConstant\n",
    "\n",
    "training = asl.build_training(features_ground)  # Experiment here with different feature sets defined in part 1\n",
    "word = 'VEGETABLE' # Experiment here with different words\n",
    "myDict = training.get_all_Xlengths()\n",
    "model = SelectorConstant(training.get_all_sequences(), training.get_all_Xlengths(), word, n_constant=3).select()\n",
    "print(\"Number of states trained in model for {} is {}\".format(word, model.n_components))"
   ]
  },
  {
   "cell_type": "markdown",
   "metadata": {},
   "source": [
    "##### Cross-validation folds\n",
    "If we simply score the model with the Log Likelihood calculated from the feature sequences it has been trained on, we should expect that more complex models will have higher likelihoods. However, that doesn't tell us which would have a better likelihood score on unseen data.  The model will likely be overfit as complexity is added.  To estimate which topology model is better using only the training data, we can compare scores using cross-validation.  One technique for cross-validation is to break the training set into \"folds\" and rotate which fold is left out of training.  The \"left out\" fold scored.  This gives us a proxy method of finding the best model to use on \"unseen data\". In the following example, a set of word sequences is broken into three folds using the [scikit-learn Kfold](http://scikit-learn.org/stable/modules/generated/sklearn.model_selection.KFold.html) class object. When you implement `SelectorCV`, you will use this technique."
   ]
  },
  {
   "cell_type": "code",
   "execution_count": 23,
   "metadata": {
    "collapsed": false
   },
   "outputs": [
    {
     "name": "stdout",
     "output_type": "stream",
     "text": [
      "Train fold indices:[ 6  7  8  9 10 11 12 13 14 15 16 17] Test fold indices:[0 1 2 3 4 5]\n",
      "Train fold indices:[ 0  1  2  3  4  5 12 13 14 15 16 17] Test fold indices:[ 6  7  8  9 10 11]\n",
      "Train fold indices:[ 0  1  2  3  4  5  6  7  8  9 10 11] Test fold indices:[12 13 14 15 16 17]\n"
     ]
    }
   ],
   "source": [
    "from sklearn.model_selection import KFold\n",
    "\n",
    "training = asl.build_training(features_ground) # Experiment here with different feature sets\n",
    "word = 'BOOK' # Experiment here with different words\n",
    "word_sequences = training.get_word_sequences(word)\n",
    "split_method = KFold()\n",
    "for cv_train_idx, cv_test_idx in split_method.split(word_sequences):\n",
    "    print(\"Train fold indices:{} Test fold indices:{}\".format(cv_train_idx, cv_test_idx))  # view indices of the folds"
   ]
  },
  {
   "cell_type": "markdown",
   "metadata": {},
   "source": [
    "##### Scoring models with other criterion\n",
    "Scoring model topologies with **BIC** balances fit and complexity within the training set for each word.  There are a number of references on the internet for this criterion.  These [slides](http://www2.imm.dtu.dk/courses/02433/doc/ch6_slides.pdf) include a formula you may find helpful for your implementation\n",
    "\n",
    "The advantages of scoring model topologies with **DIC** over BIC is presented by Alain Biem in this [reference](http://citeseerx.ist.psu.edu/viewdoc/download?doi=10.1.1.58.6208&rep=rep1&type=pdf).  DIC scores the discriminant ability of a training set for one word against competing words."
   ]
  },
  {
   "cell_type": "markdown",
   "metadata": {},
   "source": [
    "<a id='part2_submission'></a>\n",
    "### Model Selection Implementation Submission\n",
    "Implement `SelectorCV`, `SelectorBIC`, and `SelectorDIC` classes in the `my_model_selectors.py` module.  Run the selectors on the following five words. Then answer the questions about your results.\n",
    "\n",
    "**Tip:** The `hmmlearn` library may not be able to train or score all models.  Implement try/except contructs as necessary to eliminate non-viable models from consideration."
   ]
  },
  {
   "cell_type": "code",
   "execution_count": 24,
   "metadata": {
    "collapsed": false
   },
   "outputs": [],
   "source": [
    "words_to_train = ['FISH'] #, 'BOOK', 'VEGETABLE', 'FUTURE', 'JOHN', 'HOMEWORK', 'WRITE'\n",
    "import timeit\n",
    "%load_ext autoreload"
   ]
  },
  {
   "cell_type": "code",
   "execution_count": 25,
   "metadata": {
    "collapsed": false,
    "scrolled": true
   },
   "outputs": [
    {
     "name": "stdout",
     "output_type": "stream",
     "text": [
      "Training complete for FISH with 13 states with time 0.5970401975308641 seconds\n"
     ]
    }
   ],
   "source": [
    "# TODO: Implement SelectorCV in my_model_selector.py\n",
    "%autoreload 2\n",
    "from my_model_selectors import SelectorCV\n",
    "\n",
    "training = asl.build_training(features_polar)  # Experiment here with different feature sets defined in part 1\n",
    "sequences = training.get_all_sequences()\n",
    "Xlengths = training.get_all_Xlengths()\n",
    "for word in words_to_train:\n",
    "    start = timeit.default_timer()\n",
    "    model = SelectorCV(sequences, Xlengths, word, min_n_components=2, max_n_components=15, random_state = 14).select()\n",
    "    end = timeit.default_timer()-start\n",
    "    if model is not None:\n",
    "        print(\"Training complete for {} with {} states with time {} seconds\".format(word, model.n_components, end))\n",
    "    else:\n",
    "        print(\"Training failed for {}\".format(word))"
   ]
  },
  {
   "cell_type": "code",
   "execution_count": 26,
   "metadata": {
    "collapsed": false
   },
   "outputs": [
    {
     "name": "stdout",
     "output_type": "stream",
     "text": [
      "Training complete for FISH with 10 states with time 0.27525767901234577 seconds\n"
     ]
    }
   ],
   "source": [
    "# TODO: Implement SelectorBIC in module my_model_selectors.py\n",
    "%autoreload 2\n",
    "from my_model_selectors import SelectorBIC\n",
    "\n",
    "training = asl.build_training(features_polar)  # Experiment here with different feature sets defined in part 1\n",
    "sequences = training.get_all_sequences()\n",
    "Xlengths = training.get_all_Xlengths()\n",
    "for word in words_to_train:\n",
    "    start = timeit.default_timer()\n",
    "    model = SelectorBIC(sequences, Xlengths, word, \n",
    "                    min_n_components=2, max_n_components=15, random_state = 14).select()\n",
    "    end = timeit.default_timer()-start\n",
    "    if model is not None:\n",
    "        print(\"Training complete for {} with {} states with time {} seconds\".format(word, model.n_components, end))\n",
    "    else:\n",
    "        print(\"Training failed for {}\".format(word))"
   ]
  },
  {
   "cell_type": "code",
   "execution_count": 233,
   "metadata": {
    "collapsed": false
   },
   "outputs": [
    {
     "name": "stdout",
     "output_type": "stream",
     "text": [
      "Training complete for FISH with 10 states with time 38.49151486419942 seconds\n"
     ]
    }
   ],
   "source": [
    "# TODO: Implement SelectorDIC in module my_model_selectors.py\n",
    "%autoreload 2\n",
    "from my_model_selectors import SelectorDIC\n",
    "\n",
    "training = asl.build_training(features_polar)  # Experiment here with different feature sets defined in part 1\n",
    "sequences = training.get_all_sequences()\n",
    "Xlengths = training.get_all_Xlengths()\n",
    "for word in words_to_train:\n",
    "    start = timeit.default_timer()\n",
    "    model = SelectorDIC(sequences, Xlengths, word, \n",
    "                    min_n_components=2, max_n_components=15, random_state = 14).select()\n",
    "    end = timeit.default_timer()-start\n",
    "    if model is not None:\n",
    "        print(\"Training complete for {} with {} states with time {} seconds\".format(word, model.n_components, end))\n",
    "    else:\n",
    "        print(\"Training failed for {}\".format(word))"
   ]
  },
  {
   "cell_type": "markdown",
   "metadata": {},
   "source": [
    "**Question 2:**  Compare and contrast the possible advantages and disadvantages of the various model selectors implemented.\n",
    "\n",
    "**Answer 2:**\n",
    "**SelectorBIC** model is the best model in term of WER (see PART 3) and in term of time. we can see that it run faster than **SelectorCV** (which is normal as in in CV we have to do cross-validation). **SelectorCV** is a good Selector, actually it is a naive selector but using cross-validation ensures the result to be much more accurate. The downsize is that it takes a little bit longer to compute. Finally **SelectorDIC** seems to be the worst. It doesn't lead to WER that is better than the 2 others and takes lots of time to compute as for each __sequence__ we need to compute the likelihood of the sequence and the mean of all the remaining likelihood (anti-likelihood). Hence **SelectorBIC** and **SelectorCV** appear to be better choice"
   ]
  },
  {
   "cell_type": "markdown",
   "metadata": {},
   "source": [
    "<a id='part2_test'></a>\n",
    "### Model Selector Unit Testing\n",
    "Run the following unit tests as a sanity check on the implemented model selectors.  The test simply looks for valid interfaces  but is not exhaustive. However, the project should not be submitted if these tests don't pass."
   ]
  },
  {
   "cell_type": "code",
   "execution_count": 234,
   "metadata": {
    "collapsed": false
   },
   "outputs": [
    {
     "name": "stderr",
     "output_type": "stream",
     "text": [
      "....\n",
      "----------------------------------------------------------------------\n",
      "Ran 4 tests in 451.471s\n",
      "\n",
      "OK\n"
     ]
    },
    {
     "data": {
      "text/plain": [
       "<unittest.runner.TextTestResult run=4 errors=0 failures=0>"
      ]
     },
     "execution_count": 234,
     "metadata": {},
     "output_type": "execute_result"
    }
   ],
   "source": [
    "from asl_test import TestSelectors\n",
    "suite = unittest.TestLoader().loadTestsFromModule(TestSelectors())\n",
    "unittest.TextTestRunner().run(suite)"
   ]
  },
  {
   "cell_type": "markdown",
   "metadata": {
    "collapsed": false
   },
   "source": [
    "<a id='part3_tutorial'></a>\n",
    "## PART 3: Recognizer\n",
    "The objective of this section is to \"put it all together\".  Using the four feature sets created and the three model selectors, you will experiment with the models and present your results.  Instead of training only five specific words as in the previous section, train the entire set with a feature set and model selector strategy.  \n",
    "### Recognizer Tutorial\n",
    "##### Train the full training set\n",
    "The following example trains the entire set with the example `features_ground` and `SelectorConstant` features and model selector.  Use this pattern for you experimentation and final submission cells.\n",
    "\n"
   ]
  },
  {
   "cell_type": "code",
   "execution_count": 27,
   "metadata": {
    "collapsed": false
   },
   "outputs": [
    {
     "name": "stdout",
     "output_type": "stream",
     "text": [
      "Number of word models returned = 112\n"
     ]
    }
   ],
   "source": [
    "from my_model_selectors import SelectorConstant\n",
    "\n",
    "def train_all_words(features, model_selector):\n",
    "    training = asl.build_training(features)  # Experiment here with different feature sets defined in part 1\n",
    "    sequences = training.get_all_sequences()\n",
    "    Xlengths = training.get_all_Xlengths()\n",
    "    model_dict = {}\n",
    "    for word in training.words:\n",
    "        model = model_selector(sequences, Xlengths, word, \n",
    "                        n_constant=3).select()\n",
    "        model_dict[word]=model\n",
    "    return model_dict\n",
    "\n",
    "models = train_all_words(features_ground, SelectorConstant)\n",
    "print(\"Number of word models returned = {}\".format(len(models)))"
   ]
  },
  {
   "cell_type": "markdown",
   "metadata": {},
   "source": [
    "##### Load the test set\n",
    "The `build_test` method in `ASLdb` is similar to the `build_training` method already presented, but there are a few differences:\n",
    "- the object is type `SinglesData` \n",
    "- the internal dictionary keys are the index of the test word rather than the word itself\n",
    "- the getter methods are `get_all_sequences`, `get_all_Xlengths`, `get_item_sequences` and `get_item_Xlengths`"
   ]
  },
  {
   "cell_type": "code",
   "execution_count": 28,
   "metadata": {
    "collapsed": false
   },
   "outputs": [
    {
     "name": "stdout",
     "output_type": "stream",
     "text": [
      "Number of test set items: 178\n",
      "Number of test set sentences: 40\n"
     ]
    }
   ],
   "source": [
    "test_set = asl.build_test(features_ground)\n",
    "print(\"Number of test set items: {}\".format(test_set.num_items))\n",
    "print(\"Number of test set sentences: {}\".format(len(test_set.sentences_index)))"
   ]
  },
  {
   "cell_type": "markdown",
   "metadata": {},
   "source": [
    "<a id='part3_submission'></a>\n",
    "### Recognizer Implementation Submission\n",
    "For the final project submission, students must implement a recognizer following guidance in the `my_recognizer.py` module.  Experiment with the four feature sets and the three model selection methods (that's 12 possible combinations). You can add and remove cells for experimentation or run the recognizers locally in some other way during your experiments, but retain the results for your discussion.  For submission, you will provide code cells of **only three** interesting combinations for your discussion (see questions below). At least one of these should produce a word error rate of less than 60%, i.e. WER < 0.60 . \n",
    "\n",
    "**Tip:** The hmmlearn library may not be able to train or score all models.  Implement try/except contructs as necessary to eliminate non-viable models from consideration."
   ]
  },
  {
   "cell_type": "code",
   "execution_count": 29,
   "metadata": {
    "collapsed": false
   },
   "outputs": [],
   "source": [
    "# TODO implement the recognize method in my_recognizer\n",
    "from my_recognizer import recognize\n",
    "from asl_utils import show_errors"
   ]
  },
  {
   "cell_type": "code",
   "execution_count": 231,
   "metadata": {
    "collapsed": false
   },
   "outputs": [
    {
     "name": "stdout",
     "output_type": "stream",
     "text": [
      "\n",
      "**** WER = 0.5955056179775281\n",
      "Total correct: 72 out of 178\n",
      "Video  Recognized                                                    Correct\n",
      "=====================================================================================================\n",
      "    2: *FRANK *ARRIVE *ARRIVE                                        JOHN WRITE HOMEWORK\n",
      "    7: JOHN *DECIDE GO CAN                                           JOHN CAN GO CAN\n",
      "   12: *MARY CAN *ARRIVE CAN                                         JOHN CAN GO CAN\n",
      "   21: *LIKE *NEW WONT *VEGETABLE *CAR *DECIDE EAT CHICKEN           JOHN FISH WONT EAT BUT CAN EAT CHICKEN\n",
      "   25: *MARY LIKE *MARY *IX-1P *LIKE                                 JOHN LIKE IX IX IX\n",
      "   28: *ANN *ANN *ANN *LIKE *ANN                                     JOHN LIKE IX IX IX\n",
      "   30: *IX *BILL IX *BILL IX                                         JOHN LIKE IX IX IX\n",
      "   36: MARY *JOHN *IX *WOMAN *MARY *IX                               MARY VEGETABLE KNOW IX LIKE CORN1\n",
      "   40: JOHN *MARY *YESTERDAY *SUE *BILL                              JOHN IX THINK MARY LOVE\n",
      "   43: JOHN *JOHN BUY HOUSE                                          JOHN MUST BUY HOUSE\n",
      "   50: *FRANK *HIT BUY CAR *IX                                       FUTURE JOHN BUY CAR SHOULD\n",
      "   54: JOHN *FUTURE *WILL BUY HOUSE                                  JOHN SHOULD NOT BUY HOUSE\n",
      "   57: *IX *IX *IX MARY                                              JOHN DECIDE VISIT MARY\n",
      "   67: JOHN *IX *FUTURE *ARRIVE HOUSE                                JOHN FUTURE NOT BUY HOUSE\n",
      "   71: JOHN WILL VISIT MARY                                          JOHN WILL VISIT MARY\n",
      "   74: JOHN *VISIT VISIT *WOMAN                                      JOHN NOT VISIT MARY\n",
      "   77: *JOHN BLAME MARY                                              ANN BLAME MARY\n",
      "   84: *JOHN *ARRIVE *JOHN BOOK                                      IX-1P FIND SOMETHING-ONE BOOK\n",
      "   89: *WILL *BILL *IX *IX IX *ARRIVE *BOOK                          JOHN IX GIVE MAN IX NEW COAT\n",
      "   90: *MARY *IX IX *IX WOMAN BOOK                                   JOHN GIVE IX SOMETHING-ONE WOMAN BOOK\n",
      "   92: JOHN *FUTURE IX *IX *PUTASIDE BOOK                            JOHN GIVE IX SOMETHING-ONE WOMAN BOOK\n",
      "  100: POSS NEW CAR BREAK-DOWN                                       POSS NEW CAR BREAK-DOWN\n",
      "  105: JOHN *HIT                                                     JOHN LEG\n",
      "  107: *MARY *IX *BOX *IX *JOHN                                      JOHN POSS FRIEND HAVE CANDY\n",
      "  108: *MARY *JOHN                                                   WOMAN ARRIVE\n",
      "  113: IX CAR *IX *IX *JOHN                                          IX CAR BLUE SUE BUY\n",
      "  119: *WHO *BUY1 IX *BLAME *IX                                      SUE BUY IX CAR BLUE\n",
      "  122: JOHN *GIVE1 BOOK                                              JOHN READ BOOK\n",
      "  139: *IX BUY *TOY *WHAT BOOK                                       JOHN BUY WHAT YESTERDAY BOOK\n",
      "  142: JOHN *NEW YESTERDAY WHAT BOOK                                 JOHN BUY YESTERDAY WHAT BOOK\n",
      "  158: LOVE *MARY WHO                                                LOVE JOHN WHO\n",
      "  167: *IX IX *VISIT LOVE MARY                                       JOHN IX SAY LOVE MARY\n",
      "  171: *LIKE *IX BLAME                                               JOHN MARY BLAME\n",
      "  174: *BOX *FRIEND GIVE1 *GIVE *VISIT                               PEOPLE GROUP GIVE1 JANA TOY\n",
      "  181: JOHN *BOX                                                     JOHN ARRIVE\n",
      "  184: *IX *IX *GIVE1 TEACHER APPLE                                  ALL BOY GIVE TEACHER APPLE\n",
      "  189: JOHN *JANA *EAT *ARRIVE                                       JOHN GIVE GIRL BOX\n",
      "  193: JOHN *IX *OLD BOX                                             JOHN GIVE GIRL BOX\n",
      "  199: *JOHN *ARRIVE *JOHN                                           LIKE CHOCOLATE WHO\n",
      "  201: JOHN *SHOULD *BILL *JOHN BUY HOUSE                            JOHN TELL MARY IX-1P BUY HOUSE\n"
     ]
    }
   ],
   "source": [
    "# TODO Choose a feature set and model selector\n",
    "features = features_custom # change as needed\n",
    "model_selector = SelectorBIC # change as needed\n",
    "\n",
    "# TODO Recognize the test set and display the result with the show_errors method\n",
    "models = train_all_words(features, model_selector)\n",
    "test_set = asl.build_test(features)\n",
    "probabilities, guesses = recognize(models, test_set)\n",
    "show_errors(guesses, test_set)"
   ]
  },
  {
   "cell_type": "code",
   "execution_count": 232,
   "metadata": {
    "collapsed": false
   },
   "outputs": [
    {
     "name": "stdout",
     "output_type": "stream",
     "text": [
      "\n",
      "**** WER = 0.5842696629213483\n",
      "Total correct: 74 out of 178\n",
      "Video  Recognized                                                    Correct\n",
      "=====================================================================================================\n",
      "    2: JOHN WRITE HOMEWORK                                           JOHN WRITE HOMEWORK\n",
      "    7: JOHN *HAVE *IX *WHAT                                          JOHN CAN GO CAN\n",
      "   12: JOHN CAN *WHAT CAN                                            JOHN CAN GO CAN\n",
      "   21: JOHN *HOMEWORK WONT *JOHN *CAR *CAR EAT *TOMORROW             JOHN FISH WONT EAT BUT CAN EAT CHICKEN\n",
      "   25: JOHN *TELL *LOVE *TELL *LOVE                                  JOHN LIKE IX IX IX\n",
      "   28: JOHN *TELL *MARY *TELL *LOVE                                  JOHN LIKE IX IX IX\n",
      "   30: JOHN LIKE *MARY *MARY IX                                      JOHN LIKE IX IX IX\n",
      "   36: *JOHN VEGETABLE *GIRL *GIVE *BILL *MARY                       MARY VEGETABLE KNOW IX LIKE CORN1\n",
      "   40: JOHN *BILL *FUTURE1 *JOHN *SHOOT                              JOHN IX THINK MARY LOVE\n",
      "   43: JOHN *SHOULD BUY HOUSE                                        JOHN MUST BUY HOUSE\n",
      "   50: *FRANK *SEE BUY CAR *JOHN                                     FUTURE JOHN BUY CAR SHOULD\n",
      "   54: JOHN *FRANK *WHO BUY HOUSE                                    JOHN SHOULD NOT BUY HOUSE\n",
      "   57: *LIKE *PREFER *GIVE MARY                                      JOHN DECIDE VISIT MARY\n",
      "   67: JOHN *YESTERDAY NOT BUY HOUSE                                 JOHN FUTURE NOT BUY HOUSE\n",
      "   71: JOHN *FINISH *GO *BLAME                                       JOHN WILL VISIT MARY\n",
      "   74: JOHN *BILL *BILL MARY                                         JOHN NOT VISIT MARY\n",
      "   77: *JOHN BLAME *SOMETHING-ONE                                    ANN BLAME MARY\n",
      "   84: *LOVE *ARRIVE *HOMEWORK BOOK                                  IX-1P FIND SOMETHING-ONE BOOK\n",
      "   89: *GIVE *GIVE *IX *IX IX *BUY *BOOK                             JOHN IX GIVE MAN IX NEW COAT\n",
      "   90: *SOMETHING-ONE *GIVE1 IX *GIVE3 *GIVE1 BOOK                   JOHN GIVE IX SOMETHING-ONE WOMAN BOOK\n",
      "   92: JOHN *WOMAN IX *IX WOMAN BOOK                                 JOHN GIVE IX SOMETHING-ONE WOMAN BOOK\n",
      "  100: *FRANK NEW CAR BREAK-DOWN                                     POSS NEW CAR BREAK-DOWN\n",
      "  105: JOHN *FUTURE1                                                 JOHN LEG\n",
      "  107: *LIKE POSS *HAVE *LOVE *WHO                                   JOHN POSS FRIEND HAVE CANDY\n",
      "  108: WOMAN *LOVE                                                   WOMAN ARRIVE\n",
      "  113: IX CAR *POSS *POSS *ARRIVE                                    IX CAR BLUE SUE BUY\n",
      "  119: *PREFER *BUY1 *HAVE *HAVE *SEE                                SUE BUY IX CAR BLUE\n",
      "  122: JOHN *HOUSE BOOK                                              JOHN READ BOOK\n",
      "  139: JOHN *BUY1 *CAN *BLAME BOOK                                   JOHN BUY WHAT YESTERDAY BOOK\n",
      "  142: JOHN *NEW YESTERDAY *TEACHER BOOK                             JOHN BUY YESTERDAY WHAT BOOK\n",
      "  158: LOVE JOHN WHO                                                 LOVE JOHN WHO\n",
      "  167: JOHN *POSS *BILL *WOMAN *LOVE                                 JOHN IX SAY LOVE MARY\n",
      "  171: JOHN *SUE BLAME                                               JOHN MARY BLAME\n",
      "  174: *HAVE *GIVE3 GIVE1 *GIRL *WHAT                                PEOPLE GROUP GIVE1 JANA TOY\n",
      "  181: *SUE ARRIVE                                                   JOHN ARRIVE\n",
      "  184: *IX BOY *GIVE1 TEACHER *GIRL                                  ALL BOY GIVE TEACHER APPLE\n",
      "  189: JOHN *SEE *YESTERDAY *ARRIVE                                  JOHN GIVE GIRL BOX\n",
      "  193: JOHN *SOMETHING-ONE *YESTERDAY BOX                            JOHN GIVE GIRL BOX\n",
      "  199: *HOMEWORK CHOCOLATE *TELL                                     LIKE CHOCOLATE WHO\n",
      "  201: JOHN *SHOULD *WOMAN *JOHN BUY HOUSE                           JOHN TELL MARY IX-1P BUY HOUSE\n"
     ]
    }
   ],
   "source": [
    "# TODO Choose a feature set and model selector\n",
    "features = features_polar # change as needed\n",
    "model_selector = SelectorCV # change as needed\n",
    "\n",
    "# TODO Recognize the test set and display the result with the show_errors method\n",
    "models = train_all_words(features, model_selector)\n",
    "test_set = asl.build_test(features)\n",
    "probabilities, guesses = recognize(models, test_set)\n",
    "show_errors(guesses, test_set)"
   ]
  },
  {
   "cell_type": "code",
   "execution_count": 30,
   "metadata": {
    "collapsed": false,
    "scrolled": true
   },
   "outputs": [
    {
     "name": "stdout",
     "output_type": "stream",
     "text": [
      "\n",
      "**** WER = 0.5224719101123596\n",
      "Total correct: 85 out of 178\n",
      "Video  Recognized                                                    Correct\n",
      "=====================================================================================================\n",
      "    2: JOHN *BROTHER *GIVE1                                          JOHN WRITE HOMEWORK\n",
      "    7: JOHN CAN GO *ARRIVE                                           JOHN CAN GO CAN\n",
      "   12: JOHN *WHAT *JOHN CAN                                          JOHN CAN GO CAN\n",
      "   21: JOHN *NEW *JOHN *FUTURE *GIVE1 *WHAT *FUTURE *WHO             JOHN FISH WONT EAT BUT CAN EAT CHICKEN\n",
      "   25: JOHN *IX IX *WHO IX                                           JOHN LIKE IX IX IX\n",
      "   28: JOHN *MARY IX IX IX                                           JOHN LIKE IX IX IX\n",
      "   30: JOHN LIKE *MARY *MARY *MARY                                   JOHN LIKE IX IX IX\n",
      "   36: *IX VEGETABLE *GIVE *GIVE *MARY *MARY                         MARY VEGETABLE KNOW IX LIKE CORN1\n",
      "   40: JOHN *GO *GIVE MARY *MARY                                     JOHN IX THINK MARY LOVE\n",
      "   43: JOHN *FUTURE BUY HOUSE                                        JOHN MUST BUY HOUSE\n",
      "   50: *JOHN *SEE BUY CAR *JOHN                                      FUTURE JOHN BUY CAR SHOULD\n",
      "   54: JOHN SHOULD NOT BUY HOUSE                                     JOHN SHOULD NOT BUY HOUSE\n",
      "   57: *MARY *VISIT VISIT MARY                                       JOHN DECIDE VISIT MARY\n",
      "   67: *SHOULD FUTURE *MARY BUY HOUSE                                JOHN FUTURE NOT BUY HOUSE\n",
      "   71: JOHN WILL *GIVE1 MARY                                         JOHN WILL VISIT MARY\n",
      "   74: *IX *GO VISIT *VISIT                                          JOHN NOT VISIT MARY\n",
      "   77: *JOHN BLAME MARY                                              ANN BLAME MARY\n",
      "   84: *HOMEWORK *GIVE1 *VISIT *COAT                                 IX-1P FIND SOMETHING-ONE BOOK\n",
      "   89: *THINK *SHOULD *WOMAN *IX IX *ARRIVE *BOOK                    JOHN IX GIVE MAN IX NEW COAT\n",
      "   90: JOHN GIVE IX SOMETHING-ONE *VISIT *ARRIVE                     JOHN GIVE IX SOMETHING-ONE WOMAN BOOK\n",
      "   92: JOHN *WOMAN IX *IX *IX BOOK                                   JOHN GIVE IX SOMETHING-ONE WOMAN BOOK\n",
      "  100: POSS NEW CAR BREAK-DOWN                                       POSS NEW CAR BREAK-DOWN\n",
      "  105: JOHN *SEE                                                     JOHN LEG\n",
      "  107: JOHN POSS *HAVE *LOVE *JANA                                   JOHN POSS FRIEND HAVE CANDY\n",
      "  108: WOMAN *BOOK                                                   WOMAN ARRIVE\n",
      "  113: IX CAR *IX *IX *BOX                                           IX CAR BLUE SUE BUY\n",
      "  119: *VISIT *BUY1 IX *BLAME *IX                                    SUE BUY IX CAR BLUE\n",
      "  122: JOHN *GIVE1 BOOK                                              JOHN READ BOOK\n",
      "  139: JOHN *BUY1 WHAT *WHAT *ARRIVE                                 JOHN BUY WHAT YESTERDAY BOOK\n",
      "  142: JOHN BUY YESTERDAY WHAT BOOK                                  JOHN BUY YESTERDAY WHAT BOOK\n",
      "  158: LOVE JOHN WHO                                                 LOVE JOHN WHO\n",
      "  167: JOHN IX *VISIT LOVE *LOVE                                     JOHN IX SAY LOVE MARY\n",
      "  171: *MARY *IX BLAME                                               JOHN MARY BLAME\n",
      "  174: *JOHN *JOHN GIVE1 *YESTERDAY *JOHN                            PEOPLE GROUP GIVE1 JANA TOY\n",
      "  181: *EAT ARRIVE                                                   JOHN ARRIVE\n",
      "  184: *IX BOY *GIVE1 TEACHER *YESTERDAY                             ALL BOY GIVE TEACHER APPLE\n",
      "  189: *MARY *MARY *YESTERDAY BOX                                    JOHN GIVE GIRL BOX\n",
      "  193: JOHN *VISIT *YESTERDAY BOX                                    JOHN GIVE GIRL BOX\n",
      "  199: *JOHN *STUDENT *GO                                            LIKE CHOCOLATE WHO\n",
      "  201: JOHN *THINK *WOMAN *JOHN BUY HOUSE                            JOHN TELL MARY IX-1P BUY HOUSE\n"
     ]
    }
   ],
   "source": [
    "# TODO Choose a feature set and model selector\n",
    "features = features_polar # change as needed\n",
    "model_selector = SelectorBIC # change as needed\n",
    "\n",
    "# TODO Recognize the test set and display the result with the show_errors method\n",
    "models = train_all_words(features, model_selector)\n",
    "test_set = asl.build_test(features)\n",
    "probabilities, guesses = recognize(models, test_set)\n",
    "show_errors(guesses, test_set)"
   ]
  },
  {
   "cell_type": "markdown",
   "metadata": {},
   "source": [
    "**Question 3:**  Summarize the error results from three combinations of features and model selectors.  What was the \"best\" combination and why?  What additional information might we use to improve our WER?  For more insight on improving WER, take a look at the introduction to Part 4.\n",
    "\n",
    "**Answer 3:**\n",
    "You see the error result of 3 of combinations of features and model selectors above. The best combination _here_ seems to be SelectorBIC and features_polar as it leads to the lower WER: 0.53 and it takes less time than SelectorCV to compute. The worst is SelectorDIC. It takes **1h25** to compute on my own computer and doesn't guarantee to have better result _(cf table below)_. To improve our WER we can use another model like a **Grammar Model** or a **Language model** and combine them with our **Acoustic Model** using Bayes Rules and some algorithms such as:\n",
    "+ N-best\n",
    "+ Viterbi algorithm\n",
    "+ ..\n"
   ]
  },
  {
   "cell_type": "markdown",
   "metadata": {},
   "source": [
    "   WER           |  SelectorDIC  |  SelectorBIC  | SelectorCV\n",
    "  -------------  | ------------- | ------------- | ------------\n",
    "**features_polar**   | 0.561  | 0.539  | 0.561\n",
    "**features_norm**   | 0.617  | 0.595  | 0.612\n",
    "**features_delta**  | 0.651  | 0.640  | 0.640"
   ]
  },
  {
   "cell_type": "markdown",
   "metadata": {},
   "source": [
    "<a id='part3_test'></a>\n",
    "### Recognizer Unit Tests\n",
    "Run the following unit tests as a sanity check on the defined recognizer.  The test simply looks for some valid values but is not exhaustive. However, the project should not be submitted if these tests don't pass."
   ]
  },
  {
   "cell_type": "code",
   "execution_count": 31,
   "metadata": {
    "collapsed": false
   },
   "outputs": [
    {
     "name": "stderr",
     "output_type": "stream",
     "text": [
      "..\n",
      "----------------------------------------------------------------------\n",
      "Ran 2 tests in 26.026s\n",
      "\n",
      "OK\n"
     ]
    },
    {
     "data": {
      "text/plain": [
       "<unittest.runner.TextTestResult run=2 errors=0 failures=0>"
      ]
     },
     "execution_count": 31,
     "metadata": {},
     "output_type": "execute_result"
    }
   ],
   "source": [
    "from asl_test import TestRecognize\n",
    "suite = unittest.TestLoader().loadTestsFromModule(TestRecognize())\n",
    "unittest.TextTestRunner().run(suite)"
   ]
  },
  {
   "cell_type": "markdown",
   "metadata": {},
   "source": [
    "<a id='part4_info'></a>\n",
    "## PART 4: (OPTIONAL)  Improve the WER with Language Models\n",
    "We've squeezed just about as much as we can out of the model and still only get about 50% of the words right! Surely we can do better than that.  Probability to the rescue again in the form of [statistical language models (SLM)](https://en.wikipedia.org/wiki/Language_model).  The basic idea is that each word has some probability of occurrence within the set, and some probability that it is adjacent to specific other words. We can use that additional information to make better choices.\n",
    "\n",
    "##### Additional reading and resources\n",
    "- [Introduction to N-grams (Stanford Jurafsky slides)](https://web.stanford.edu/class/cs124/lec/languagemodeling.pdf)\n",
    "- [Speech Recognition Techniques for a Sign Language Recognition System, Philippe Dreuw et al](https://www-i6.informatik.rwth-aachen.de/publications/download/154/Dreuw--2007.pdf) see the improved results of applying LM on *this* data!\n",
    "- [SLM data for *this* ASL dataset](ftp://wasserstoff.informatik.rwth-aachen.de/pub/rwth-boston-104/lm/)\n",
    "\n",
    "##### Optional challenge\n",
    "The recognizer you implemented in Part 3 is equivalent to a \"0-gram\" SLM.  Improve the WER with the SLM data provided with the data set in the link above using \"1-gram\", \"2-gram\", and/or \"3-gram\" statistics. The `probabilities` data you've already calculated will be useful and can be turned into a pandas DataFrame if desired (see next cell).  \n",
    "Good luck!  Share your results with the class!"
   ]
  },
  {
   "cell_type": "code",
   "execution_count": 205,
   "metadata": {
    "collapsed": false
   },
   "outputs": [
    {
     "data": {
      "text/html": [
       "<div>\n",
       "<table border=\"1\" class=\"dataframe\">\n",
       "  <thead>\n",
       "    <tr style=\"text-align: right;\">\n",
       "      <th></th>\n",
       "      <th>ALL</th>\n",
       "      <th>ANN</th>\n",
       "      <th>APPLE</th>\n",
       "      <th>ARRIVE</th>\n",
       "      <th>BILL</th>\n",
       "      <th>BLAME</th>\n",
       "      <th>BLUE</th>\n",
       "      <th>BOOK</th>\n",
       "      <th>BORROW</th>\n",
       "      <th>BOX</th>\n",
       "      <th>...</th>\n",
       "      <th>VIDEOTAPE</th>\n",
       "      <th>VISIT</th>\n",
       "      <th>WANT</th>\n",
       "      <th>WHAT</th>\n",
       "      <th>WHO</th>\n",
       "      <th>WILL</th>\n",
       "      <th>WOMAN</th>\n",
       "      <th>WONT</th>\n",
       "      <th>WRITE</th>\n",
       "      <th>YESTERDAY</th>\n",
       "    </tr>\n",
       "  </thead>\n",
       "  <tbody>\n",
       "    <tr>\n",
       "      <th>0</th>\n",
       "      <td>-2564.662695</td>\n",
       "      <td>-41956.468452</td>\n",
       "      <td>-2607.661913</td>\n",
       "      <td>-283.236620</td>\n",
       "      <td>-1914.870126</td>\n",
       "      <td>-361.960448</td>\n",
       "      <td>-2788.373706</td>\n",
       "      <td>-996.866290</td>\n",
       "      <td>-4494.410087</td>\n",
       "      <td>-506.014587</td>\n",
       "      <td>...</td>\n",
       "      <td>-1570.826117</td>\n",
       "      <td>-204.394372</td>\n",
       "      <td>-1808.252197</td>\n",
       "      <td>-281.594959</td>\n",
       "      <td>-211.611880</td>\n",
       "      <td>-710.683687</td>\n",
       "      <td>-657.289539</td>\n",
       "      <td>-754.633694</td>\n",
       "      <td>-9815.468262</td>\n",
       "      <td>-297.246080</td>\n",
       "    </tr>\n",
       "    <tr>\n",
       "      <th>1</th>\n",
       "      <td>-6791.690644</td>\n",
       "      <td>-36160.004699</td>\n",
       "      <td>-9809.478432</td>\n",
       "      <td>-118.942572</td>\n",
       "      <td>-16939.812725</td>\n",
       "      <td>-339.938120</td>\n",
       "      <td>-2762.903680</td>\n",
       "      <td>-113.149854</td>\n",
       "      <td>-3834.421244</td>\n",
       "      <td>-701.495432</td>\n",
       "      <td>...</td>\n",
       "      <td>-135.571999</td>\n",
       "      <td>-374.557539</td>\n",
       "      <td>-1664.036269</td>\n",
       "      <td>-341.874211</td>\n",
       "      <td>-111.098536</td>\n",
       "      <td>-3134.871283</td>\n",
       "      <td>-415.246557</td>\n",
       "      <td>-1494.193684</td>\n",
       "      <td>-113.794489</td>\n",
       "      <td>-1495.640659</td>\n",
       "    </tr>\n",
       "    <tr>\n",
       "      <th>2</th>\n",
       "      <td>-9576.855303</td>\n",
       "      <td>-154469.113258</td>\n",
       "      <td>-16073.901762</td>\n",
       "      <td>-318.667096</td>\n",
       "      <td>-25629.382095</td>\n",
       "      <td>-907.851176</td>\n",
       "      <td>-7178.991459</td>\n",
       "      <td>-879.147700</td>\n",
       "      <td>-3441.069400</td>\n",
       "      <td>-1229.191798</td>\n",
       "      <td>...</td>\n",
       "      <td>-891.254578</td>\n",
       "      <td>-711.496965</td>\n",
       "      <td>-2125.926160</td>\n",
       "      <td>-767.909074</td>\n",
       "      <td>-483.978522</td>\n",
       "      <td>-4347.725285</td>\n",
       "      <td>-1412.953319</td>\n",
       "      <td>-1869.519352</td>\n",
       "      <td>-3230.074501</td>\n",
       "      <td>-965.782421</td>\n",
       "    </tr>\n",
       "    <tr>\n",
       "      <th>3</th>\n",
       "      <td>-1061.709747</td>\n",
       "      <td>-466692.858336</td>\n",
       "      <td>-2555.973123</td>\n",
       "      <td>-252.589494</td>\n",
       "      <td>-526.346339</td>\n",
       "      <td>-260.431204</td>\n",
       "      <td>-198.966164</td>\n",
       "      <td>-997.240149</td>\n",
       "      <td>-33897.899104</td>\n",
       "      <td>-711.825376</td>\n",
       "      <td>...</td>\n",
       "      <td>-3949.501739</td>\n",
       "      <td>-217.816749</td>\n",
       "      <td>-15343.585503</td>\n",
       "      <td>-571.705613</td>\n",
       "      <td>-565.158810</td>\n",
       "      <td>-2694.318006</td>\n",
       "      <td>-267.511192</td>\n",
       "      <td>-508.134793</td>\n",
       "      <td>-50457.361807</td>\n",
       "      <td>-521.223356</td>\n",
       "    </tr>\n",
       "    <tr>\n",
       "      <th>4</th>\n",
       "      <td>-1462.548501</td>\n",
       "      <td>-227504.583968</td>\n",
       "      <td>-3113.233070</td>\n",
       "      <td>-62.168304</td>\n",
       "      <td>-2726.599622</td>\n",
       "      <td>-57.427115</td>\n",
       "      <td>-140.806752</td>\n",
       "      <td>-144.376407</td>\n",
       "      <td>-846.567498</td>\n",
       "      <td>-47.469508</td>\n",
       "      <td>...</td>\n",
       "      <td>-231.796585</td>\n",
       "      <td>-64.713586</td>\n",
       "      <td>-600.012881</td>\n",
       "      <td>-50.957518</td>\n",
       "      <td>-208.252232</td>\n",
       "      <td>-1359.808704</td>\n",
       "      <td>-144.034247</td>\n",
       "      <td>-812.568059</td>\n",
       "      <td>-3369.306540</td>\n",
       "      <td>-346.633865</td>\n",
       "    </tr>\n",
       "  </tbody>\n",
       "</table>\n",
       "<p>5 rows × 112 columns</p>\n",
       "</div>"
      ],
      "text/plain": [
       "           ALL            ANN         APPLE      ARRIVE          BILL  \\\n",
       "0 -2564.662695  -41956.468452  -2607.661913 -283.236620  -1914.870126   \n",
       "1 -6791.690644  -36160.004699  -9809.478432 -118.942572 -16939.812725   \n",
       "2 -9576.855303 -154469.113258 -16073.901762 -318.667096 -25629.382095   \n",
       "3 -1061.709747 -466692.858336  -2555.973123 -252.589494   -526.346339   \n",
       "4 -1462.548501 -227504.583968  -3113.233070  -62.168304  -2726.599622   \n",
       "\n",
       "        BLAME         BLUE        BOOK        BORROW          BOX  \\\n",
       "0 -361.960448 -2788.373706 -996.866290  -4494.410087  -506.014587   \n",
       "1 -339.938120 -2762.903680 -113.149854  -3834.421244  -701.495432   \n",
       "2 -907.851176 -7178.991459 -879.147700  -3441.069400 -1229.191798   \n",
       "3 -260.431204  -198.966164 -997.240149 -33897.899104  -711.825376   \n",
       "4  -57.427115  -140.806752 -144.376407   -846.567498   -47.469508   \n",
       "\n",
       "      ...         VIDEOTAPE       VISIT          WANT        WHAT         WHO  \\\n",
       "0     ...      -1570.826117 -204.394372  -1808.252197 -281.594959 -211.611880   \n",
       "1     ...       -135.571999 -374.557539  -1664.036269 -341.874211 -111.098536   \n",
       "2     ...       -891.254578 -711.496965  -2125.926160 -767.909074 -483.978522   \n",
       "3     ...      -3949.501739 -217.816749 -15343.585503 -571.705613 -565.158810   \n",
       "4     ...       -231.796585  -64.713586   -600.012881  -50.957518 -208.252232   \n",
       "\n",
       "          WILL        WOMAN         WONT         WRITE    YESTERDAY  \n",
       "0  -710.683687  -657.289539  -754.633694  -9815.468262  -297.246080  \n",
       "1 -3134.871283  -415.246557 -1494.193684   -113.794489 -1495.640659  \n",
       "2 -4347.725285 -1412.953319 -1869.519352  -3230.074501  -965.782421  \n",
       "3 -2694.318006  -267.511192  -508.134793 -50457.361807  -521.223356  \n",
       "4 -1359.808704  -144.034247  -812.568059  -3369.306540  -346.633865  \n",
       "\n",
       "[5 rows x 112 columns]"
      ]
     },
     "execution_count": 205,
     "metadata": {},
     "output_type": "execute_result"
    }
   ],
   "source": [
    "# create a DataFrame of log likelihoods for the test word items\n",
    "df_probs = pd.DataFrame(data=probabilities)\n",
    "df_probs.head()"
   ]
  },
  {
   "cell_type": "code",
   "execution_count": 87,
   "metadata": {
    "collapsed": false
   },
   "outputs": [],
   "source": [
    "import arpa\n",
    "\n",
    "models = arpa.loadf(\"aslr.lm\")\n",
    "lm = models[0]\n",
    "\n",
    "# list of the 112 words\n",
    "words = df_probs.keys().tolist()\n",
    "\n",
    "# n-best words according to their logLikelihood\n",
    "topn_v = np.fliplr(np.sort(df_probs,axis=1)[:,-6:]) #[:,-6:] --> 6 best words\n",
    "topn_pos = np.fliplr(np.array(np.argsort(df_probs,axis=1).iloc[:,-6:])) # corresponding position\n",
    "\n",
    "topn_d = {}\n",
    "\"\"\"for i in range(test_set.num_items):\n",
    "    for idx, value in zip(topn_pos[i], topn_v[i]):\n",
    "        if i in topn_d:\n",
    "            topn_d[i].append((words[idx], value))\n",
    "        else:\n",
    "            topn_d[i] = []\n",
    "            topn_d[i].append((words[idx], value))\"\"\"\n",
    "            \n",
    "for idx, val in test_set.sentences_index.items():\n",
    "    sentence_len = len(val)\n",
    "    for i in val:\n",
    "        # keep only c words where c dicrease with the length of the real sentence\n",
    "        c = 6 if sentence_len <= 4 else 5 if sentence_len <= 5 else 4 if sentence_len <= 6 else 3\n",
    "        for idx, value in zip(topn_pos[i], topn_v[i]):\n",
    "            if c == 0:\n",
    "                break\n",
    "            c -= 1\n",
    "            if i in topn_d:\n",
    "                topn_d[i].append((words[idx], value))\n",
    "            else:\n",
    "                topn_d[i] = []\n",
    "                topn_d[i].append((words[idx], value))\n",
    "            \n",
    "# add real words  \n",
    "# for cheater only :p --> lead to WER of 19% \n",
    "# if C = 1e9 but it is cheating (see explanation at the end)\n",
    "\n",
    "#for i in range(test_set.num_items):\n",
    "#    words = [w[0] for w in topn_d[i]]\n",
    "#    new_w = test_set.wordlist[i]\n",
    "#    if new_w not in words:\n",
    "#        try:\n",
    "#            topn_d[i].append((new_w, df_norm[new_w][i]))\n",
    "#        except:\n",
    "#            pass\n",
    "#topn_d"
   ]
  },
  {
   "cell_type": "code",
   "execution_count": 80,
   "metadata": {
    "collapsed": false
   },
   "outputs": [],
   "source": [
    "import itertools\n",
    "\n",
    "def show_errors2(guesses, test_set):\n",
    "    S = 0\n",
    "    N = len(test_set.wordlist)\n",
    "    num_test_words = len(test_set.wordlist)\n",
    "    if len(guesses) != num_test_words:\n",
    "        print(\"Size of guesses must equal number of test words ({})!\".format(num_test_words))\n",
    "    for word_id in range(num_test_words):\n",
    "        if guesses[word_id] != test_set.wordlist[word_id]:\n",
    "            S += 1\n",
    "\n",
    "    return float(S) / float(N)\n",
    "\n",
    "def sentences_score_by_sample(topn_d, idx_list, sentence, C):\n",
    "    \"\"\" create dict of one video sentence numbers with dict of word sequence with their corresponding log likelihood value\n",
    "    :param topn_d: dict of the n best words according to their loglikelihood\n",
    "    :param idx_list: idx_list\n",
    "    :param sentence: correct sentence\n",
    "    :param C: factor in the formula argmax{log(O|W) + C*log(W)} \n",
    "    :return: C to use in the formula argmax{log(O|W) + C*log(W)}\n",
    "    {\n",
    "    v0: {\"MY SENTENCE1\": logP, \"MY SENTENCE2\": logP, \"MY SENTENCE3\": logP}, \n",
    "    v1: {\"OTHER EXAMPLE SENTENCE1\": logP, \"OTHER EXAMPLE SENTENCE2\": logP, \"OTHER EXAMPLE SENTENCE3\": logP},\n",
    "    } \n",
    "    where v# is video number\n",
    "    \"\"\"\n",
    "    d = {}\n",
    "    \n",
    "    # list of list of tuple representing the best word and his log likelihood value\n",
    "    # [[('MARY', -178.48),('NOT', -173.62),..],[('BOOK', -113.14),('BOOK', -113.14),..],...]\n",
    "    word_and_score = [topn_d[i] for i in idx_list]\n",
    "        \n",
    "    for comb in itertools.product(*word_and_score):\n",
    "        # combinaison of sentence build from word_and_score list\n",
    "        sentence_c = \" \".join([w[0] for w in comb])\n",
    "        try:\n",
    "            prior = lm.log_s(sentence_c)\n",
    "        except:\n",
    "            continue\n",
    "        # value = {log(O|W) + C*log(W)}\n",
    "        value = sum([w[1] for w in comb]) + C*prior\n",
    "        d[sentence_c] = value\n",
    "        #if sentence == \"JOHN LIKE IX IX IX\":\n",
    "        #    print(sentence_c, sum([w[1] for w in comb]))\n",
    "        #    print(prior)\n",
    "        #    print()\n",
    "        \n",
    "    return d\n",
    "        \n",
    "\n",
    "def sentences_score(topn_d, test_set, C):\n",
    "    \"\"\" create dict of video sentence numbers with dict of word sequence with their corresponding log likelihood value\n",
    "    :param topn_d: dict of the n best words according to their loglikelihood\n",
    "    :param csvfile: test_set\n",
    "    :param C: to use in the formula argmax{log(O|W) + C*log(W)}\n",
    "    :return: dict\n",
    "    {\n",
    "    v0: {\"MY SENTENCE1\": logP, \"MY SENTENCE2\": logP, \"MY SENTENCE3\": logP}, \n",
    "    v1: {\"OTHER EXAMPLE SENTENCE1\": logP, \"OTHER EXAMPLE SENTENCE2\": logP, \"OTHER EXAMPLE SENTENCE3\": logP},\n",
    "    } \n",
    "    where v# is video number\n",
    "    \"\"\"\n",
    "    my_new_d = {}\n",
    "    for idx, val in test_set.sentences_index.items():\n",
    "        my_new_d[idx] = sentences_score_by_sample(topn_d, val, \" \".join(test_set.wordlist[val[0]: val[-1]+1]), C)\n",
    "    return my_new_d\n",
    "\n",
    "#dict_sentences_score = sentences_score(topn_d, test_set, 7)"
   ]
  },
  {
   "cell_type": "code",
   "execution_count": 84,
   "metadata": {
    "collapsed": false
   },
   "outputs": [
    {
     "data": {
      "text/plain": [
       "[<matplotlib.lines.Line2D at 0x1c91c66fda0>]"
      ]
     },
     "execution_count": 84,
     "metadata": {},
     "output_type": "execute_result"
    },
    {
     "data": {
      "image/png": "[encoded data removed]",
      "text/plain": [
       "<matplotlib.figure.Figure at 0x1c91c005400>"
      ]
     },
     "metadata": {},
     "output_type": "display_data"
    }
   ],
   "source": [
    "def get_guess(final_dic):\n",
    "    guesses_f = []\n",
    "    for idx, value in final_dic.items():\n",
    "        sentence_max = max(final_dic[idx], key=final_dic[idx].get)\n",
    "        for w in sentence_max.split():\n",
    "            guesses_f.append(w)\n",
    "    return guesses_f\n",
    "\n",
    "hist = []\n",
    "for i in range(30):\n",
    "    dict_sen_score = sentences_score(topn_d, test_set, i)\n",
    "    new_g = get_guess(dict_sen_score)\n",
    "    hist.append(show_errors2(new_g, test_set))\n",
    "\n",
    "plt.plot(hist)"
   ]
  },
  {
   "cell_type": "code",
   "execution_count": 86,
   "metadata": {
    "collapsed": false
   },
   "outputs": [
    {
     "name": "stdout",
     "output_type": "stream",
     "text": [
      "\n",
      "**** WER = 0.42696629213483145\n",
      "Total correct: 102 out of 178\n",
      "Video  Recognized                                                    Correct\n",
      "=====================================================================================================\n",
      "    2: JOHN *BROTHER *ARRIVE                                         JOHN WRITE HOMEWORK\n",
      "    7: JOHN CAN GO CAN                                               JOHN CAN GO CAN\n",
      "   12: JOHN CAN *JOHN CAN                                            JOHN CAN GO CAN\n",
      "   21: JOHN *NEW *CAR *FUTURE *CAR *WHAT *JOHN *WHO                  JOHN FISH WONT EAT BUT CAN EAT CHICKEN\n",
      "   25: JOHN LIKE IX IX IX                                            JOHN LIKE IX IX IX\n",
      "   28: JOHN *IX IX IX IX                                             JOHN LIKE IX IX IX\n",
      "   30: JOHN LIKE IX IX IX                                            JOHN LIKE IX IX IX\n",
      "   36: MARY VEGETABLE *GIVE *GIVE *LOVE *MARY                        MARY VEGETABLE KNOW IX LIKE CORN1\n",
      "   40: JOHN *GO *VISIT MARY *MARY                                    JOHN IX THINK MARY LOVE\n",
      "   43: JOHN *FUTURE BUY HOUSE                                        JOHN MUST BUY HOUSE\n",
      "   50: *JOHN *FUTURE BUY CAR *JOHN                                   FUTURE JOHN BUY CAR SHOULD\n",
      "   54: JOHN SHOULD NOT BUY HOUSE                                     JOHN SHOULD NOT BUY HOUSE\n",
      "   57: *MARY *VISIT VISIT MARY                                       JOHN DECIDE VISIT MARY\n",
      "   67: JOHN FUTURE *MARY BUY HOUSE                                   JOHN FUTURE NOT BUY HOUSE\n",
      "   71: JOHN WILL VISIT MARY                                          JOHN WILL VISIT MARY\n",
      "   74: JOHN *GO VISIT MARY                                           JOHN NOT VISIT MARY\n",
      "   77: *JOHN BLAME MARY                                              ANN BLAME MARY\n",
      "   84: *JOHN *JOHN *VISIT BOOK                                       IX-1P FIND SOMETHING-ONE BOOK\n",
      "   89: *MARY IX *IX *IX IX *ARRIVE *BOOK                             JOHN IX GIVE MAN IX NEW COAT\n",
      "   90: JOHN GIVE IX SOMETHING-ONE WOMAN *ARRIVE                      JOHN GIVE IX SOMETHING-ONE WOMAN BOOK\n",
      "   92: JOHN GIVE IX *IX *IX BOOK                                     JOHN GIVE IX SOMETHING-ONE WOMAN BOOK\n",
      "  100: POSS NEW CAR BREAK-DOWN                                       POSS NEW CAR BREAK-DOWN\n",
      "  105: JOHN *SEE                                                     JOHN LEG\n",
      "  107: JOHN *IX *HAVE *LOVE *MARY                                    JOHN POSS FRIEND HAVE CANDY\n",
      "  108: *IX *BOOK                                                     WOMAN ARRIVE\n",
      "  113: IX CAR *IX *IX *IX                                            IX CAR BLUE SUE BUY\n",
      "  119: *MARY *LOVE IX *WHAT *MARY                                    SUE BUY IX CAR BLUE\n",
      "  122: JOHN *HOUSE BOOK                                              JOHN READ BOOK\n",
      "  139: JOHN *LOVE WHAT *MARY BOOK                                    JOHN BUY WHAT YESTERDAY BOOK\n",
      "  142: JOHN BUY YESTERDAY WHAT BOOK                                  JOHN BUY YESTERDAY WHAT BOOK\n",
      "  158: LOVE JOHN WHO                                                 LOVE JOHN WHO\n",
      "  167: JOHN IX *JOHN LOVE MARY                                       JOHN IX SAY LOVE MARY\n",
      "  171: JOHN MARY BLAME                                               JOHN MARY BLAME\n",
      "  174: *JOHN *JOHN *MARY *YESTERDAY *WHAT                            PEOPLE GROUP GIVE1 JANA TOY\n",
      "  181: *EAT ARRIVE                                                   JOHN ARRIVE\n",
      "  184: *IX BOY *JOHN TEACHER *GIVE                                   ALL BOY GIVE TEACHER APPLE\n",
      "  189: JOHN *MARY *YESTERDAY *ARRIVE                                 JOHN GIVE GIRL BOX\n",
      "  193: JOHN *GO *YESTERDAY BOX                                       JOHN GIVE GIRL BOX\n",
      "  199: *JOHN *LOVE *MARY                                             LIKE CHOCOLATE WHO\n",
      "  201: JOHN *GIVE *IX *JOHN BUY HOUSE                                JOHN TELL MARY IX-1P BUY HOUSE\n"
     ]
    }
   ],
   "source": [
    "dict_sentences_score = sentences_score(topn_d, test_set, 25)\n",
    "new_g = get_guess(dict_sentences_score)\n",
    "show_errors(new_g, test_set)"
   ]
  },
  {
   "cell_type": "markdown",
   "metadata": {},
   "source": [
    "### In the following cells I used Viterbi algorithm ###\n",
    "I was not sure as if I have to use Viterbi algorithm or not. Actually, after reading on the subject I think viterbi algorithm could be useful. I used the Decoder class from https://phvu.net/2013/12/06/sweet-implementation-of-viterbi-in-python/\n",
    "Also don't hesitate to see my intervention in this Udacity post (about how to tackle the problem): https://discussions.udacity.com/t/slm-data-for-this-asl-dataset/230822"
   ]
  },
  {
   "cell_type": "code",
   "execution_count": 88,
   "metadata": {
    "collapsed": true
   },
   "outputs": [],
   "source": [
    "import numpy as np\n",
    " \n",
    "class Decoder(object):\n",
    "    def __init__(self, initialProb, transProb, obsProb):\n",
    "        self.N = initialProb.shape[0]\n",
    "        self.initialProb = initialProb\n",
    "        self.transProb = transProb\n",
    "        self.obsProb = obsProb\n",
    "        assert self.initialProb.shape == (self.N, 1)\n",
    "        assert self.transProb.shape == (self.N, self.N)\n",
    "        assert self.obsProb.shape[0] == self.N\n",
    " \n",
    "    def Obs(self, obs):\n",
    "        return self.obsProb[:, obs, None]\n",
    " \n",
    "    def Decode(self, obs):\n",
    "        trellis = np.zeros((self.N, len(obs)))\n",
    "        backpt = np.ones((self.N, len(obs)), 'int32') * -1\n",
    " \n",
    "        # initialization\n",
    "        trellis[:, 0] = np.squeeze(self.initialProb * self.Obs(obs[0]))\n",
    " \n",
    "        for t in range(1, len(obs)):\n",
    "            trellis[:, t] = (trellis[:, t-1, None].dot(self.Obs(obs[t]).T) * self.transProb).max(0)\n",
    "            backpt[:, t] = (np.tile(trellis[:, t-1, None], [1, self.N]) * self.transProb).argmax(0)\n",
    "        # termination\n",
    "        tokens = [trellis[:, -1].argmax()]\n",
    "        for i in range(len(obs)-1, 0, -1):\n",
    "            tokens.append(backpt[tokens[-1], i])\n",
    "        return tokens[::-1]"
   ]
  },
  {
   "cell_type": "code",
   "execution_count": 148,
   "metadata": {
    "collapsed": false
   },
   "outputs": [
    {
     "data": {
      "text/html": [
       "<div>\n",
       "<table border=\"1\" class=\"dataframe\">\n",
       "  <thead>\n",
       "    <tr style=\"text-align: right;\">\n",
       "      <th></th>\n",
       "      <th>ALL</th>\n",
       "      <th>ANN</th>\n",
       "      <th>APPLE</th>\n",
       "      <th>ARRIVE</th>\n",
       "      <th>BILL</th>\n",
       "      <th>BLAME</th>\n",
       "      <th>BLUE</th>\n",
       "      <th>BOOK</th>\n",
       "      <th>BORROW</th>\n",
       "      <th>BOX</th>\n",
       "      <th>...</th>\n",
       "      <th>VIDEOTAPE</th>\n",
       "      <th>VISIT</th>\n",
       "      <th>WANT</th>\n",
       "      <th>WHAT</th>\n",
       "      <th>WHO</th>\n",
       "      <th>WILL</th>\n",
       "      <th>WOMAN</th>\n",
       "      <th>WONT</th>\n",
       "      <th>WRITE</th>\n",
       "      <th>YESTERDAY</th>\n",
       "    </tr>\n",
       "  </thead>\n",
       "  <tbody>\n",
       "    <tr>\n",
       "      <th>0</th>\n",
       "      <td>0.003363</td>\n",
       "      <td>0.003363</td>\n",
       "      <td>0.004142</td>\n",
       "      <td>0.016768</td>\n",
       "      <td>0.004142</td>\n",
       "      <td>0.005284</td>\n",
       "      <td>0.003363</td>\n",
       "      <td>0.016768</td>\n",
       "      <td>0.003363</td>\n",
       "      <td>0.004142</td>\n",
       "      <td>...</td>\n",
       "      <td>0.004142</td>\n",
       "      <td>0.012174</td>\n",
       "      <td>0.003363</td>\n",
       "      <td>0.030550</td>\n",
       "      <td>0.023659</td>\n",
       "      <td>0.003363</td>\n",
       "      <td>0.007581</td>\n",
       "      <td>0.004142</td>\n",
       "      <td>0.003363</td>\n",
       "      <td>0.009877</td>\n",
       "    </tr>\n",
       "    <tr>\n",
       "      <th>1</th>\n",
       "      <td>0.003363</td>\n",
       "      <td>0.003363</td>\n",
       "      <td>0.004142</td>\n",
       "      <td>0.016768</td>\n",
       "      <td>0.004142</td>\n",
       "      <td>0.281755</td>\n",
       "      <td>0.003363</td>\n",
       "      <td>0.016768</td>\n",
       "      <td>0.003363</td>\n",
       "      <td>0.004142</td>\n",
       "      <td>...</td>\n",
       "      <td>0.004142</td>\n",
       "      <td>0.012174</td>\n",
       "      <td>0.003363</td>\n",
       "      <td>0.030550</td>\n",
       "      <td>0.023659</td>\n",
       "      <td>0.003363</td>\n",
       "      <td>0.007581</td>\n",
       "      <td>0.004142</td>\n",
       "      <td>0.003363</td>\n",
       "      <td>0.009877</td>\n",
       "    </tr>\n",
       "    <tr>\n",
       "      <th>2</th>\n",
       "      <td>0.003363</td>\n",
       "      <td>0.003363</td>\n",
       "      <td>0.004142</td>\n",
       "      <td>0.016768</td>\n",
       "      <td>0.004142</td>\n",
       "      <td>0.005284</td>\n",
       "      <td>0.003363</td>\n",
       "      <td>0.016768</td>\n",
       "      <td>0.003363</td>\n",
       "      <td>0.004142</td>\n",
       "      <td>...</td>\n",
       "      <td>0.004142</td>\n",
       "      <td>0.012174</td>\n",
       "      <td>0.003363</td>\n",
       "      <td>0.030550</td>\n",
       "      <td>0.161894</td>\n",
       "      <td>0.003363</td>\n",
       "      <td>0.007581</td>\n",
       "      <td>0.004142</td>\n",
       "      <td>0.003363</td>\n",
       "      <td>0.009877</td>\n",
       "    </tr>\n",
       "    <tr>\n",
       "      <th>3</th>\n",
       "      <td>0.000551</td>\n",
       "      <td>0.000551</td>\n",
       "      <td>0.000678</td>\n",
       "      <td>0.002746</td>\n",
       "      <td>0.000678</td>\n",
       "      <td>0.000865</td>\n",
       "      <td>0.000551</td>\n",
       "      <td>0.002746</td>\n",
       "      <td>0.000551</td>\n",
       "      <td>0.000678</td>\n",
       "      <td>...</td>\n",
       "      <td>0.000678</td>\n",
       "      <td>0.001994</td>\n",
       "      <td>0.000551</td>\n",
       "      <td>0.005003</td>\n",
       "      <td>0.020669</td>\n",
       "      <td>0.000551</td>\n",
       "      <td>0.001242</td>\n",
       "      <td>0.000678</td>\n",
       "      <td>0.000551</td>\n",
       "      <td>0.001618</td>\n",
       "    </tr>\n",
       "    <tr>\n",
       "      <th>4</th>\n",
       "      <td>0.003363</td>\n",
       "      <td>0.003363</td>\n",
       "      <td>0.004142</td>\n",
       "      <td>0.016768</td>\n",
       "      <td>0.004142</td>\n",
       "      <td>0.005284</td>\n",
       "      <td>0.003363</td>\n",
       "      <td>0.016768</td>\n",
       "      <td>0.003363</td>\n",
       "      <td>0.004142</td>\n",
       "      <td>...</td>\n",
       "      <td>0.004142</td>\n",
       "      <td>0.012174</td>\n",
       "      <td>0.003363</td>\n",
       "      <td>0.099667</td>\n",
       "      <td>0.023659</td>\n",
       "      <td>0.003363</td>\n",
       "      <td>0.007581</td>\n",
       "      <td>0.004142</td>\n",
       "      <td>0.003363</td>\n",
       "      <td>0.078995</td>\n",
       "    </tr>\n",
       "  </tbody>\n",
       "</table>\n",
       "<p>5 rows × 112 columns</p>\n",
       "</div>"
      ],
      "text/plain": [
       "        ALL       ANN     APPLE    ARRIVE      BILL     BLAME      BLUE  \\\n",
       "0  0.003363  0.003363  0.004142  0.016768  0.004142  0.005284  0.003363   \n",
       "1  0.003363  0.003363  0.004142  0.016768  0.004142  0.281755  0.003363   \n",
       "2  0.003363  0.003363  0.004142  0.016768  0.004142  0.005284  0.003363   \n",
       "3  0.000551  0.000551  0.000678  0.002746  0.000678  0.000865  0.000551   \n",
       "4  0.003363  0.003363  0.004142  0.016768  0.004142  0.005284  0.003363   \n",
       "\n",
       "       BOOK    BORROW       BOX    ...      VIDEOTAPE     VISIT      WANT  \\\n",
       "0  0.016768  0.003363  0.004142    ...       0.004142  0.012174  0.003363   \n",
       "1  0.016768  0.003363  0.004142    ...       0.004142  0.012174  0.003363   \n",
       "2  0.016768  0.003363  0.004142    ...       0.004142  0.012174  0.003363   \n",
       "3  0.002746  0.000551  0.000678    ...       0.000678  0.001994  0.000551   \n",
       "4  0.016768  0.003363  0.004142    ...       0.004142  0.012174  0.003363   \n",
       "\n",
       "       WHAT       WHO      WILL     WOMAN      WONT     WRITE  YESTERDAY  \n",
       "0  0.030550  0.023659  0.003363  0.007581  0.004142  0.003363   0.009877  \n",
       "1  0.030550  0.023659  0.003363  0.007581  0.004142  0.003363   0.009877  \n",
       "2  0.030550  0.161894  0.003363  0.007581  0.004142  0.003363   0.009877  \n",
       "3  0.005003  0.020669  0.000551  0.001242  0.000678  0.000551   0.001618  \n",
       "4  0.099667  0.023659  0.003363  0.007581  0.004142  0.003363   0.078995  \n",
       "\n",
       "[5 rows x 112 columns]"
      ]
     },
     "execution_count": 148,
     "metadata": {},
     "output_type": "execute_result"
    }
   ],
   "source": [
    "# transition matrix for each word : P(WORD1|WORD2)\n",
    "# where the row index correspond to the index of the words, hence :\n",
    "# probability p(APPLE|ARRIVE) corresponds to\n",
    "# lm.log_p(\"ARRIVE APPLE\") = df_trans['APPLE'][3]\n",
    "df_norm = df_probs\n",
    "import arpa\n",
    "models = arpa.loadf(\"aslr.lm\")\n",
    "lm = models[0]\n",
    "words = df_norm.keys().tolist()\n",
    "trans_l = []\n",
    "for w1 in words:\n",
    "    row = {}\n",
    "    for w2 in words:\n",
    "        sen = w1 + \" \" + w2\n",
    "        try:\n",
    "            row[w2] = lm.p(sen)\n",
    "        except:\n",
    "            row[w2] = 0.00001\n",
    "    trans_l.append(row)\n",
    "df_trans = pd.DataFrame(data=trans_l)\n",
    "df_trans.head()"
   ]
  },
  {
   "cell_type": "code",
   "execution_count": 221,
   "metadata": {
    "collapsed": false
   },
   "outputs": [],
   "source": [
    "df_prob_t = df_probs.transpose()"
   ]
  },
  {
   "cell_type": "code",
   "execution_count": 225,
   "metadata": {
    "collapsed": false
   },
   "outputs": [
    {
     "data": {
      "text/html": [
       "<div>\n",
       "<table border=\"1\" class=\"dataframe\">\n",
       "  <thead>\n",
       "    <tr style=\"text-align: right;\">\n",
       "      <th></th>\n",
       "      <th>0</th>\n",
       "      <th>1</th>\n",
       "      <th>2</th>\n",
       "      <th>3</th>\n",
       "      <th>4</th>\n",
       "      <th>5</th>\n",
       "      <th>6</th>\n",
       "      <th>7</th>\n",
       "      <th>8</th>\n",
       "      <th>9</th>\n",
       "      <th>...</th>\n",
       "      <th>168</th>\n",
       "      <th>169</th>\n",
       "      <th>170</th>\n",
       "      <th>171</th>\n",
       "      <th>172</th>\n",
       "      <th>173</th>\n",
       "      <th>174</th>\n",
       "      <th>175</th>\n",
       "      <th>176</th>\n",
       "      <th>177</th>\n",
       "    </tr>\n",
       "  </thead>\n",
       "  <tbody>\n",
       "    <tr>\n",
       "      <th>ALL</th>\n",
       "      <td>0.008787</td>\n",
       "      <td>0.008794</td>\n",
       "      <td>0.008794</td>\n",
       "      <td>0.008794</td>\n",
       "      <td>0.008794</td>\n",
       "      <td>0.008794</td>\n",
       "      <td>0.008794</td>\n",
       "      <td>0.008794</td>\n",
       "      <td>0.008794</td>\n",
       "      <td>0.008771</td>\n",
       "      <td>...</td>\n",
       "      <td>0.008794</td>\n",
       "      <td>0.008794</td>\n",
       "      <td>0.008794</td>\n",
       "      <td>0.008794</td>\n",
       "      <td>0.008794</td>\n",
       "      <td>0.008789</td>\n",
       "      <td>0.008794</td>\n",
       "      <td>0.008783</td>\n",
       "      <td>0.008794</td>\n",
       "      <td>0.008794</td>\n",
       "    </tr>\n",
       "    <tr>\n",
       "      <th>ANN</th>\n",
       "      <td>0.008787</td>\n",
       "      <td>0.008794</td>\n",
       "      <td>0.008794</td>\n",
       "      <td>0.008794</td>\n",
       "      <td>0.008794</td>\n",
       "      <td>0.008794</td>\n",
       "      <td>0.008794</td>\n",
       "      <td>0.008794</td>\n",
       "      <td>0.008794</td>\n",
       "      <td>0.008771</td>\n",
       "      <td>...</td>\n",
       "      <td>0.008794</td>\n",
       "      <td>0.008794</td>\n",
       "      <td>0.008794</td>\n",
       "      <td>0.008794</td>\n",
       "      <td>0.008794</td>\n",
       "      <td>0.008789</td>\n",
       "      <td>0.008794</td>\n",
       "      <td>0.008783</td>\n",
       "      <td>0.008794</td>\n",
       "      <td>0.008794</td>\n",
       "    </tr>\n",
       "    <tr>\n",
       "      <th>APPLE</th>\n",
       "      <td>0.008787</td>\n",
       "      <td>0.008794</td>\n",
       "      <td>0.008794</td>\n",
       "      <td>0.008794</td>\n",
       "      <td>0.008794</td>\n",
       "      <td>0.008794</td>\n",
       "      <td>0.008794</td>\n",
       "      <td>0.008794</td>\n",
       "      <td>0.008794</td>\n",
       "      <td>0.008771</td>\n",
       "      <td>...</td>\n",
       "      <td>0.008794</td>\n",
       "      <td>0.008794</td>\n",
       "      <td>0.008794</td>\n",
       "      <td>0.008794</td>\n",
       "      <td>0.008794</td>\n",
       "      <td>0.008789</td>\n",
       "      <td>0.008794</td>\n",
       "      <td>0.008783</td>\n",
       "      <td>0.008794</td>\n",
       "      <td>0.008794</td>\n",
       "    </tr>\n",
       "    <tr>\n",
       "      <th>ARRIVE</th>\n",
       "      <td>0.008787</td>\n",
       "      <td>0.008794</td>\n",
       "      <td>0.008794</td>\n",
       "      <td>0.008794</td>\n",
       "      <td>0.008794</td>\n",
       "      <td>0.008794</td>\n",
       "      <td>0.023904</td>\n",
       "      <td>0.008794</td>\n",
       "      <td>0.008794</td>\n",
       "      <td>0.008771</td>\n",
       "      <td>...</td>\n",
       "      <td>0.008794</td>\n",
       "      <td>0.008794</td>\n",
       "      <td>0.008794</td>\n",
       "      <td>0.008794</td>\n",
       "      <td>0.008794</td>\n",
       "      <td>0.008789</td>\n",
       "      <td>0.008794</td>\n",
       "      <td>0.008783</td>\n",
       "      <td>0.008794</td>\n",
       "      <td>0.008794</td>\n",
       "    </tr>\n",
       "    <tr>\n",
       "      <th>BILL</th>\n",
       "      <td>0.008787</td>\n",
       "      <td>0.008794</td>\n",
       "      <td>0.008794</td>\n",
       "      <td>0.008794</td>\n",
       "      <td>0.008794</td>\n",
       "      <td>0.008794</td>\n",
       "      <td>0.008794</td>\n",
       "      <td>0.008794</td>\n",
       "      <td>0.008794</td>\n",
       "      <td>0.008771</td>\n",
       "      <td>...</td>\n",
       "      <td>0.008794</td>\n",
       "      <td>0.008794</td>\n",
       "      <td>0.008794</td>\n",
       "      <td>0.008794</td>\n",
       "      <td>0.008794</td>\n",
       "      <td>0.008789</td>\n",
       "      <td>0.008794</td>\n",
       "      <td>0.008783</td>\n",
       "      <td>0.008794</td>\n",
       "      <td>0.008794</td>\n",
       "    </tr>\n",
       "  </tbody>\n",
       "</table>\n",
       "<p>5 rows × 178 columns</p>\n",
       "</div>"
      ],
      "text/plain": [
       "             0         1         2         3         4         5         6    \\\n",
       "ALL     0.008787  0.008794  0.008794  0.008794  0.008794  0.008794  0.008794   \n",
       "ANN     0.008787  0.008794  0.008794  0.008794  0.008794  0.008794  0.008794   \n",
       "APPLE   0.008787  0.008794  0.008794  0.008794  0.008794  0.008794  0.008794   \n",
       "ARRIVE  0.008787  0.008794  0.008794  0.008794  0.008794  0.008794  0.023904   \n",
       "BILL    0.008787  0.008794  0.008794  0.008794  0.008794  0.008794  0.008794   \n",
       "\n",
       "             7         8         9      ...          168       169       170  \\\n",
       "ALL     0.008794  0.008794  0.008771    ...     0.008794  0.008794  0.008794   \n",
       "ANN     0.008794  0.008794  0.008771    ...     0.008794  0.008794  0.008794   \n",
       "APPLE   0.008794  0.008794  0.008771    ...     0.008794  0.008794  0.008794   \n",
       "ARRIVE  0.008794  0.008794  0.008771    ...     0.008794  0.008794  0.008794   \n",
       "BILL    0.008794  0.008794  0.008771    ...     0.008794  0.008794  0.008794   \n",
       "\n",
       "             171       172       173       174       175       176       177  \n",
       "ALL     0.008794  0.008794  0.008789  0.008794  0.008783  0.008794  0.008794  \n",
       "ANN     0.008794  0.008794  0.008789  0.008794  0.008783  0.008794  0.008794  \n",
       "APPLE   0.008794  0.008794  0.008789  0.008794  0.008783  0.008794  0.008794  \n",
       "ARRIVE  0.008794  0.008794  0.008789  0.008794  0.008783  0.008794  0.008794  \n",
       "BILL    0.008794  0.008794  0.008789  0.008794  0.008783  0.008794  0.008794  \n",
       "\n",
       "[5 rows x 178 columns]"
      ]
     },
     "execution_count": 225,
     "metadata": {},
     "output_type": "execute_result"
    }
   ],
   "source": [
    "# try to normalize probabilities table...\n",
    "df_prob_slice = np.exp(df_prob_t)\n",
    "df_prob_slice_temp = df_prob_slice.transpose() - df_prob_slice[df_prob_slice > -1e20].min(axis=1)\n",
    "df_prob_slice_temp2 = df_prob_slice_temp.transpose()\n",
    "df_prob_slice_final = (df_prob_slice_temp2 - df_prob_slice_temp2.mean()) / (df_prob_slice_temp2.max() - df_prob_slice_temp2.min())\n",
    "df_prob_slice_f = np.exp(df_prob_slice_final)/np.sum(np.exp(df_prob_slice_final), axis=0)\n",
    "df_prob_slice_f = df_prob_slice_f.fillna(0)\n",
    "df_prob_slice_f.head()\n"
   ]
  },
  {
   "cell_type": "code",
   "execution_count": 226,
   "metadata": {
    "collapsed": false
   },
   "outputs": [
    {
     "name": "stdout",
     "output_type": "stream",
     "text": [
      "[(0, 'JOHN'), (1, 'LOVE'), (2, 'MARY')]\n"
     ]
    }
   ],
   "source": [
    "# return only the result for the first setence\n",
    "# here JOHN LOVE MARY is returned instead of JOHN WRITE HOMEWORK\n",
    "# JOHN LOVE MARY (it's it beautiful ?)\n",
    "all_tab = np.array(df_prob_t)\n",
    "\n",
    "obs=np.array(df_prob_slice_f.ix[:,0:2])\n",
    "transition=np.array(df_trans)\n",
    "\n",
    "statenames = df_norm.keys().tolist()\n",
    "rownames = words\n",
    "\n",
    "init=np.expand_dims(np.array(obs[:,0]),1)\n",
    "decoder = Decoder(init, transition, obs)\n",
    "\n",
    "states =  decoder.Decode(np.arange(3))\n",
    "result = np.array(statenames)[states].tolist()\n",
    "sentence = df_prob_slice.columns.tolist()\n",
    "resultTagged = zip(sentence,result)\n",
    "print([u for u in resultTagged])"
   ]
  },
  {
   "cell_type": "code",
   "execution_count": 230,
   "metadata": {
    "collapsed": false
   },
   "outputs": [
    {
     "data": {
      "text/plain": [
       "<matplotlib.text.Text at 0x1c91ff9beb8>"
      ]
     },
     "execution_count": 230,
     "metadata": {},
     "output_type": "execute_result"
    },
    {
     "data": {
      "image/png": "[encoded data removed]",
      "text/plain": [
       "<matplotlib.figure.Figure at 0x1c91ff25be0>"
      ]
     },
     "metadata": {},
     "output_type": "display_data"
    }
   ],
   "source": [
    "def test_viterbi(df_trans):\n",
    "    n_g = []\n",
    "    transition=np.array(df_trans)\n",
    "    for video, seq in test_set.sentences_index.items():\n",
    "        df_prob_s = df_prob_slice_f.ix[:,seq[0]:seq[-1]]\n",
    "        obs=np.array(df_prob_s)\n",
    "        init=np.expand_dims(np.array(obs[:,0]),1)\n",
    "\n",
    "        decoder = Decoder(init, transition, obs)\n",
    "        states =  decoder.Decode(np.arange(len(seq)))\n",
    "        result = np.array(statenames)[states].tolist()\n",
    "        for v in result:\n",
    "            n_g.append(v)\n",
    "    return n_g\n",
    "\n",
    "hist = []\n",
    "for i in range(1,100):\n",
    "    df_trans_copy = np.power(df_trans, 1/i)\n",
    "    n_g = test_viterbi(df_trans_copy)\n",
    "    hist.append(show_errors2(n_g, test_set))\n",
    "plt.plot(hist)\n",
    "plt.xlabel(\"constant 1/C\")\n",
    "plt.ylabel(\"WER\")"
   ]
  },
  {
   "cell_type": "markdown",
   "metadata": {},
   "source": [
    "Well Actually I think there might be a way to use trellis/viterbi/N-best algorithms to improve the WER. So if you can help me to understand how I can improve even more the accuracy of the model let me know. I think to improve even more the model we can improve our HMM too.\n",
    "\n",
    "**Note** : If I add the true words to the language model and if I use C=1e9 (C a very big number) I can achieve a WER of 19%. But it isn't a good result as in this case my LM overwhelm my AM and hence I'm not using my AM. In this case I give me a good accuracy because we don't have lot's of training data. See all the debate in this Udacity post:\n",
    "https://discussions.udacity.com/t/slm-data-for-this-asl-dataset/230822"
   ]
  },
  {
   "cell_type": "code",
   "execution_count": null,
   "metadata": {
    "collapsed": true
   },
   "outputs": [],
   "source": []
  }
 ],
 "metadata": {
  "anaconda-cloud": {},
  "kernelspec": {
   "display_name": "Python 3",
   "language": "python",
   "name": "python3"
  },
  "language_info": {
   "codemirror_mode": {
    "name": "ipython",
    "version": 3
   },
   "file_extension": ".py",
   "mimetype": "text/x-python",
   "name": "python",
   "nbconvert_exporter": "python",
   "pygments_lexer": "ipython3",
   "version": "3.6.0"
  },
  "nbpresent": {
   "slides": {
    "0a2d4faf-9fb8-4cee-853b-ed68b90f3f8a": {
     "id": "0a2d4faf-9fb8-4cee-853b-ed68b90f3f8a",
     "prev": null,
     "regions": {
      "3fb9ce83-fbb2-4995-832a-f8f400734ad3": {
       "attrs": {
        "height": 0.8,
        "width": 0.8,
        "x": 0.1,
        "y": 0.1
       },
       "content": {
        "cell": "1dbb9346-179b-4835-b430-6369d88f1a1b",
        "part": "whole"
       },
       "id": "3fb9ce83-fbb2-4995-832a-f8f400734ad3"
      }
     }
    },
    "1519a4fa-1588-4644-98de-9c43bf0aceb5": {
     "id": "1519a4fa-1588-4644-98de-9c43bf0aceb5",
     "prev": "8a712017-49b7-449f-8264-43a032ace902",
     "regions": {
      "29546121-ed11-44b7-8144-0c44e874098f": {
       "attrs": {
        "height": 0.8,
        "width": 0.8,
        "x": 0.1,
        "y": 0.1
       },
       "content": {
        "cell": "365590a4-6963-4812-a1cf-688f7b6bb9ff",
        "part": "whole"
       },
       "id": "29546121-ed11-44b7-8144-0c44e874098f"
      }
     }
    },
    "176eaccb-15dd-455d-bf07-504213e7aa01": {
     "id": "176eaccb-15dd-455d-bf07-504213e7aa01",
     "prev": "de6b30f4-2463-4901-92ed-aabad78e5e0f",
     "regions": {
      "1542aa9e-dc55-4b90-adef-bf5181872b42": {
       "attrs": {
        "height": 0.8,
        "width": 0.8,
        "x": 0.1,
        "y": 0.1
       },
       "content": {
        "cell": "5c242050-c1f7-4b3b-8103-2ea9d71a40dc",
        "part": "whole"
       },
       "id": "1542aa9e-dc55-4b90-adef-bf5181872b42"
      }
     }
    },
    "19091b36-b0e7-49b1-b501-ec05937e0da9": {
     "id": "19091b36-b0e7-49b1-b501-ec05937e0da9",
     "prev": "1983c02e-fb99-4c05-a728-e0c0ad7c06d8",
     "regions": {
      "6529a31c-8d45-425c-b1d7-d0ac6fca6a32": {
       "attrs": {
        "height": 0.8,
        "width": 0.8,
        "x": 0.1,
        "y": 0.1
       },
       "content": {
        "cell": "e766909d-9421-4aaf-9fb1-bc90d27e49e3",
        "part": "whole"
       },
       "id": "6529a31c-8d45-425c-b1d7-d0ac6fca6a32"
      }
     }
    },
    "1983c02e-fb99-4c05-a728-e0c0ad7c06d8": {
     "id": "1983c02e-fb99-4c05-a728-e0c0ad7c06d8",
     "prev": "176eaccb-15dd-455d-bf07-504213e7aa01",
     "regions": {
      "1c4e605d-7f22-4f30-b3fb-74b2937e7a4a": {
       "attrs": {
        "height": 0.8,
        "width": 0.8,
        "x": 0.1,
        "y": 0.1
       },
       "content": {
        "cell": "4d217204-e5c0-4568-bd30-12c2e41b681d",
        "part": "whole"
       },
       "id": "1c4e605d-7f22-4f30-b3fb-74b2937e7a4a"
      }
     }
    },
    "212b111f-4527-459c-8297-1db5580ee5c9": {
     "id": "212b111f-4527-459c-8297-1db5580ee5c9",
     "prev": "76898529-e49e-4663-8d02-8261dfe1d94b",
     "regions": {
      "2e4bd280-3cd6-47d0-9c81-17737b24053b": {
       "attrs": {
        "height": 0.8,
        "width": 0.8,
        "x": 0.1,
        "y": 0.1
       },
       "content": {
        "cell": "0c316996-9933-4b3d-82ec-259518dc8bc9",
        "part": "whole"
       },
       "id": "2e4bd280-3cd6-47d0-9c81-17737b24053b"
      }
     }
    },
    "23a7337f-a0cf-4ed4-baa9-ec06bfdc0579": {
     "id": "23a7337f-a0cf-4ed4-baa9-ec06bfdc0579",
     "prev": "e76e9a02-54c1-4ec9-80fb-c611ed398122",
     "regions": {
      "b5721d20-d6f8-4ddb-a5aa-eb16f0cc8893": {
       "attrs": {
        "height": 0.8,
        "width": 0.8,
        "x": 0.1,
        "y": 0.1
       },
       "content": {
        "cell": "313015a2-b5a9-4136-a8ea-5d011e47d840",
        "part": "whole"
       },
       "id": "b5721d20-d6f8-4ddb-a5aa-eb16f0cc8893"
      }
     }
    },
    "732f1952-ee54-46fb-8067-099512824296": {
     "id": "732f1952-ee54-46fb-8067-099512824296",
     "prev": "0a2d4faf-9fb8-4cee-853b-ed68b90f3f8a",
     "regions": {
      "f31d4597-08ad-4c46-ad52-4bd2d775c624": {
       "attrs": {
        "height": 0.8,
        "width": 0.8,
        "x": 0.1,
        "y": 0.1
       },
       "content": {
        "cell": "aadfec52-27ca-4541-8920-fa9253d51827",
        "part": "whole"
       },
       "id": "f31d4597-08ad-4c46-ad52-4bd2d775c624"
      }
     }
    },
    "76898529-e49e-4663-8d02-8261dfe1d94b": {
     "id": "76898529-e49e-4663-8d02-8261dfe1d94b",
     "prev": "19091b36-b0e7-49b1-b501-ec05937e0da9",
     "regions": {
      "ec1746fc-aec9-4a7c-8225-9e9ac8d45889": {
       "attrs": {
        "height": 0.8,
        "width": 0.8,
        "x": 0.1,
        "y": 0.1
       },
       "content": {
        "cell": "b3e539be-84e2-49ce-a183-31cfc5c7ce7c",
        "part": "whole"
       },
       "id": "ec1746fc-aec9-4a7c-8225-9e9ac8d45889"
      }
     }
    },
    "8a712017-49b7-449f-8264-43a032ace902": {
     "id": "8a712017-49b7-449f-8264-43a032ace902",
     "prev": "bed9e696-630e-4747-be1c-bc3737ba992f",
     "regions": {
      "1faab517-cd16-4c63-bb01-a67246749d7a": {
       "attrs": {
        "height": 0.8,
        "width": 0.8,
        "x": 0.1,
        "y": 0.1
       },
       "content": {
        "cell": "3f14ddf0-4145-4687-9c33-712c3c32520f",
        "part": "whole"
       },
       "id": "1faab517-cd16-4c63-bb01-a67246749d7a"
      }
     }
    },
    "90af992d-eb6d-4496-b2d2-6aa9a95b6a61": {
     "id": "90af992d-eb6d-4496-b2d2-6aa9a95b6a61",
     "prev": "732f1952-ee54-46fb-8067-099512824296",
     "regions": {
      "4f448bec-5be9-4553-88ae-e35ed7612f25": {
       "attrs": {
        "height": 0.8,
        "width": 0.8,
        "x": 0.1,
        "y": 0.1
       },
       "content": {
        "cell": "c445fbfb-b8ab-4e9a-8d13-12231a1c588f",
        "part": "whole"
       },
       "id": "4f448bec-5be9-4553-88ae-e35ed7612f25"
      }
     }
    },
    "bed9e696-630e-4747-be1c-bc3737ba992f": {
     "id": "bed9e696-630e-4747-be1c-bc3737ba992f",
     "prev": "23a7337f-a0cf-4ed4-baa9-ec06bfdc0579",
     "regions": {
      "ac1513f0-404f-492b-8b42-0313e9a753b0": {
       "attrs": {
        "height": 0.8,
        "width": 0.8,
        "x": 0.1,
        "y": 0.1
       },
       "content": {
        "cell": "18dd2eee-8b6c-4a5e-9539-132d00a7c7e1",
        "part": "whole"
       },
       "id": "ac1513f0-404f-492b-8b42-0313e9a753b0"
      }
     }
    },
    "de6b30f4-2463-4901-92ed-aabad78e5e0f": {
     "id": "de6b30f4-2463-4901-92ed-aabad78e5e0f",
     "prev": "e36b4639-be8c-46f7-a8c9-bcfb134f9fd0",
     "regions": {
      "55ec36e0-362f-4fd3-8060-7cee056039aa": {
       "attrs": {
        "height": 0.8,
        "width": 0.8,
        "x": 0.1,
        "y": 0.1
       },
       "content": {
        "cell": "c3cf461e-4c9e-4dec-99d2-07bfa79cbe23",
        "part": "whole"
       },
       "id": "55ec36e0-362f-4fd3-8060-7cee056039aa"
      }
     }
    },
    "e36b4639-be8c-46f7-a8c9-bcfb134f9fd0": {
     "id": "e36b4639-be8c-46f7-a8c9-bcfb134f9fd0",
     "prev": "1519a4fa-1588-4644-98de-9c43bf0aceb5",
     "regions": {
      "4c1e9714-9ba0-45fd-8a2f-ef80a5c85c2e": {
       "attrs": {
        "height": 0.8,
        "width": 0.8,
        "x": 0.1,
        "y": 0.1
       },
       "content": {
        "cell": "6534d4dc-125f-47e6-a022-cf1e0d277174",
        "part": "whole"
       },
       "id": "4c1e9714-9ba0-45fd-8a2f-ef80a5c85c2e"
      }
     }
    },
    "e76e9a02-54c1-4ec9-80fb-c611ed398122": {
     "id": "e76e9a02-54c1-4ec9-80fb-c611ed398122",
     "prev": "90af992d-eb6d-4496-b2d2-6aa9a95b6a61",
     "regions": {
      "9491b84d-193b-40ff-9321-d21eb1ba88d4": {
       "attrs": {
        "height": 0.8,
        "width": 0.8,
        "x": 0.1,
        "y": 0.1
       },
       "content": {
        "cell": "b64ec10e-fa9d-4f3f-907f-6799611ed6b1",
        "part": "whole"
       },
       "id": "9491b84d-193b-40ff-9321-d21eb1ba88d4"
      }
     }
    }
   },
   "themes": {}
  }
 },
 "nbformat": 4,
 "nbformat_minor": 0
}
